{
  "nbformat": 4,
  "nbformat_minor": 0,
  "metadata": {
    "colab": {
      "name": "heart_disease_classification_with_additional_catboost_and_xgboost.ipynb",
      "provenance": [],
      "authorship_tag": "ABX9TyOxyqd2ghcHM9vVVrJBde+E",
      "include_colab_link": true
    },
    "kernelspec": {
      "name": "python3",
      "display_name": "Python 3"
    },
    "language_info": {
      "name": "python"
    }
  },
  "cells": [
    {
      "cell_type": "markdown",
      "metadata": {
        "id": "view-in-github",
        "colab_type": "text"
      },
      "source": [
        "<a href=\"https://colab.research.google.com/github/kunjkinger/machine_learning_ztm/blob/main/heart_disease_classification_with_additional_catboost_and_xgboost.ipynb\" target=\"_parent\"><img src=\"https://colab.research.google.com/assets/colab-badge.svg\" alt=\"Open In Colab\"/></a>"
      ]
    },
    {
      "cell_type": "code",
      "metadata": {
        "id": "JfdwVM6OO0zp"
      },
      "source": [
        "import numpy as np\n",
        "import pandas as pd\n",
        "import matplotlib.pyplot as plt\n"
      ],
      "execution_count": 1,
      "outputs": []
    },
    {
      "cell_type": "code",
      "metadata": {
        "colab": {
          "base_uri": "https://localhost:8080/"
        },
        "id": "OVM3aqufI1mm",
        "outputId": "a5bd2ecd-52d2-4620-8337-3ccaecfa4d5b"
      },
      "source": [
        "!pip install xgboost"
      ],
      "execution_count": 195,
      "outputs": [
        {
          "output_type": "stream",
          "name": "stdout",
          "text": [
            "Requirement already satisfied: xgboost in /usr/local/lib/python3.7/dist-packages (0.90)\n",
            "Requirement already satisfied: numpy in /usr/local/lib/python3.7/dist-packages (from xgboost) (1.19.5)\n",
            "Requirement already satisfied: scipy in /usr/local/lib/python3.7/dist-packages (from xgboost) (1.4.1)\n"
          ]
        }
      ]
    },
    {
      "cell_type": "code",
      "metadata": {
        "colab": {
          "base_uri": "https://localhost:8080/"
        },
        "id": "hh9HBbNIHeA6",
        "outputId": "7e1b1716-f2ee-48b6-88e1-bc2691aad423"
      },
      "source": [
        "!pip install catboost"
      ],
      "execution_count": 187,
      "outputs": [
        {
          "output_type": "stream",
          "name": "stdout",
          "text": [
            "Collecting catboost\n",
            "  Downloading catboost-1.0.0-cp37-none-manylinux1_x86_64.whl (76.4 MB)\n",
            "\u001b[K     |████████████████████████████████| 76.4 MB 28 kB/s \n",
            "\u001b[?25hRequirement already satisfied: matplotlib in /usr/local/lib/python3.7/dist-packages (from catboost) (3.2.2)\n",
            "Requirement already satisfied: six in /usr/local/lib/python3.7/dist-packages (from catboost) (1.15.0)\n",
            "Requirement already satisfied: plotly in /usr/local/lib/python3.7/dist-packages (from catboost) (4.4.1)\n",
            "Requirement already satisfied: numpy>=1.16.0 in /usr/local/lib/python3.7/dist-packages (from catboost) (1.19.5)\n",
            "Requirement already satisfied: pandas>=0.24.0 in /usr/local/lib/python3.7/dist-packages (from catboost) (1.1.5)\n",
            "Requirement already satisfied: graphviz in /usr/local/lib/python3.7/dist-packages (from catboost) (0.10.1)\n",
            "Requirement already satisfied: scipy in /usr/local/lib/python3.7/dist-packages (from catboost) (1.4.1)\n",
            "Requirement already satisfied: python-dateutil>=2.7.3 in /usr/local/lib/python3.7/dist-packages (from pandas>=0.24.0->catboost) (2.8.2)\n",
            "Requirement already satisfied: pytz>=2017.2 in /usr/local/lib/python3.7/dist-packages (from pandas>=0.24.0->catboost) (2018.9)\n",
            "Requirement already satisfied: pyparsing!=2.0.4,!=2.1.2,!=2.1.6,>=2.0.1 in /usr/local/lib/python3.7/dist-packages (from matplotlib->catboost) (2.4.7)\n",
            "Requirement already satisfied: cycler>=0.10 in /usr/local/lib/python3.7/dist-packages (from matplotlib->catboost) (0.10.0)\n",
            "Requirement already satisfied: kiwisolver>=1.0.1 in /usr/local/lib/python3.7/dist-packages (from matplotlib->catboost) (1.3.2)\n",
            "Requirement already satisfied: retrying>=1.3.3 in /usr/local/lib/python3.7/dist-packages (from plotly->catboost) (1.3.3)\n",
            "Installing collected packages: catboost\n",
            "Successfully installed catboost-1.0.0\n"
          ]
        }
      ]
    },
    {
      "cell_type": "code",
      "metadata": {
        "id": "ge1fQIHBO8An"
      },
      "source": [
        "df = pd.read_csv('heart-disease.csv')"
      ],
      "execution_count": 2,
      "outputs": []
    },
    {
      "cell_type": "code",
      "metadata": {
        "colab": {
          "base_uri": "https://localhost:8080/"
        },
        "id": "5NAsNTXfPCgE",
        "outputId": "b49563b1-b314-45ef-daf9-748393f8c8af"
      },
      "source": [
        "df.info()"
      ],
      "execution_count": 3,
      "outputs": [
        {
          "output_type": "stream",
          "name": "stdout",
          "text": [
            "<class 'pandas.core.frame.DataFrame'>\n",
            "RangeIndex: 303 entries, 0 to 302\n",
            "Data columns (total 14 columns):\n",
            " #   Column    Non-Null Count  Dtype  \n",
            "---  ------    --------------  -----  \n",
            " 0   age       303 non-null    int64  \n",
            " 1   sex       303 non-null    int64  \n",
            " 2   cp        303 non-null    int64  \n",
            " 3   trestbps  303 non-null    int64  \n",
            " 4   chol      303 non-null    int64  \n",
            " 5   fbs       303 non-null    int64  \n",
            " 6   restecg   303 non-null    int64  \n",
            " 7   thalach   303 non-null    int64  \n",
            " 8   exang     303 non-null    int64  \n",
            " 9   oldpeak   303 non-null    float64\n",
            " 10  slope     303 non-null    int64  \n",
            " 11  ca        303 non-null    int64  \n",
            " 12  thal      303 non-null    int64  \n",
            " 13  target    303 non-null    int64  \n",
            "dtypes: float64(1), int64(13)\n",
            "memory usage: 33.3 KB\n"
          ]
        }
      ]
    },
    {
      "cell_type": "code",
      "metadata": {
        "colab": {
          "base_uri": "https://localhost:8080/",
          "height": 200
        },
        "id": "zml7EnQxPDr2",
        "outputId": "0c23812d-81fc-4158-eb07-5ee302e5a08b"
      },
      "source": [
        "df.head()"
      ],
      "execution_count": 4,
      "outputs": [
        {
          "output_type": "execute_result",
          "data": {
            "text/html": [
              "<div>\n",
              "<style scoped>\n",
              "    .dataframe tbody tr th:only-of-type {\n",
              "        vertical-align: middle;\n",
              "    }\n",
              "\n",
              "    .dataframe tbody tr th {\n",
              "        vertical-align: top;\n",
              "    }\n",
              "\n",
              "    .dataframe thead th {\n",
              "        text-align: right;\n",
              "    }\n",
              "</style>\n",
              "<table border=\"1\" class=\"dataframe\">\n",
              "  <thead>\n",
              "    <tr style=\"text-align: right;\">\n",
              "      <th></th>\n",
              "      <th>age</th>\n",
              "      <th>sex</th>\n",
              "      <th>cp</th>\n",
              "      <th>trestbps</th>\n",
              "      <th>chol</th>\n",
              "      <th>fbs</th>\n",
              "      <th>restecg</th>\n",
              "      <th>thalach</th>\n",
              "      <th>exang</th>\n",
              "      <th>oldpeak</th>\n",
              "      <th>slope</th>\n",
              "      <th>ca</th>\n",
              "      <th>thal</th>\n",
              "      <th>target</th>\n",
              "    </tr>\n",
              "  </thead>\n",
              "  <tbody>\n",
              "    <tr>\n",
              "      <th>0</th>\n",
              "      <td>63</td>\n",
              "      <td>1</td>\n",
              "      <td>3</td>\n",
              "      <td>145</td>\n",
              "      <td>233</td>\n",
              "      <td>1</td>\n",
              "      <td>0</td>\n",
              "      <td>150</td>\n",
              "      <td>0</td>\n",
              "      <td>2.3</td>\n",
              "      <td>0</td>\n",
              "      <td>0</td>\n",
              "      <td>1</td>\n",
              "      <td>1</td>\n",
              "    </tr>\n",
              "    <tr>\n",
              "      <th>1</th>\n",
              "      <td>37</td>\n",
              "      <td>1</td>\n",
              "      <td>2</td>\n",
              "      <td>130</td>\n",
              "      <td>250</td>\n",
              "      <td>0</td>\n",
              "      <td>1</td>\n",
              "      <td>187</td>\n",
              "      <td>0</td>\n",
              "      <td>3.5</td>\n",
              "      <td>0</td>\n",
              "      <td>0</td>\n",
              "      <td>2</td>\n",
              "      <td>1</td>\n",
              "    </tr>\n",
              "    <tr>\n",
              "      <th>2</th>\n",
              "      <td>41</td>\n",
              "      <td>0</td>\n",
              "      <td>1</td>\n",
              "      <td>130</td>\n",
              "      <td>204</td>\n",
              "      <td>0</td>\n",
              "      <td>0</td>\n",
              "      <td>172</td>\n",
              "      <td>0</td>\n",
              "      <td>1.4</td>\n",
              "      <td>2</td>\n",
              "      <td>0</td>\n",
              "      <td>2</td>\n",
              "      <td>1</td>\n",
              "    </tr>\n",
              "    <tr>\n",
              "      <th>3</th>\n",
              "      <td>56</td>\n",
              "      <td>1</td>\n",
              "      <td>1</td>\n",
              "      <td>120</td>\n",
              "      <td>236</td>\n",
              "      <td>0</td>\n",
              "      <td>1</td>\n",
              "      <td>178</td>\n",
              "      <td>0</td>\n",
              "      <td>0.8</td>\n",
              "      <td>2</td>\n",
              "      <td>0</td>\n",
              "      <td>2</td>\n",
              "      <td>1</td>\n",
              "    </tr>\n",
              "    <tr>\n",
              "      <th>4</th>\n",
              "      <td>57</td>\n",
              "      <td>0</td>\n",
              "      <td>0</td>\n",
              "      <td>120</td>\n",
              "      <td>354</td>\n",
              "      <td>0</td>\n",
              "      <td>1</td>\n",
              "      <td>163</td>\n",
              "      <td>1</td>\n",
              "      <td>0.6</td>\n",
              "      <td>2</td>\n",
              "      <td>0</td>\n",
              "      <td>2</td>\n",
              "      <td>1</td>\n",
              "    </tr>\n",
              "  </tbody>\n",
              "</table>\n",
              "</div>"
            ],
            "text/plain": [
              "   age  sex  cp  trestbps  chol  fbs  ...  exang  oldpeak  slope  ca  thal  target\n",
              "0   63    1   3       145   233    1  ...      0      2.3      0   0     1       1\n",
              "1   37    1   2       130   250    0  ...      0      3.5      0   0     2       1\n",
              "2   41    0   1       130   204    0  ...      0      1.4      2   0     2       1\n",
              "3   56    1   1       120   236    0  ...      0      0.8      2   0     2       1\n",
              "4   57    0   0       120   354    0  ...      1      0.6      2   0     2       1\n",
              "\n",
              "[5 rows x 14 columns]"
            ]
          },
          "metadata": {},
          "execution_count": 4
        }
      ]
    },
    {
      "cell_type": "code",
      "metadata": {
        "colab": {
          "base_uri": "https://localhost:8080/"
        },
        "id": "z5XsC4cgPEa3",
        "outputId": "907b1fed-31b7-4a90-ae02-9cfe0c288157"
      },
      "source": [
        "df.shape"
      ],
      "execution_count": 5,
      "outputs": [
        {
          "output_type": "execute_result",
          "data": {
            "text/plain": [
              "(303, 14)"
            ]
          },
          "metadata": {},
          "execution_count": 5
        }
      ]
    },
    {
      "cell_type": "markdown",
      "metadata": {
        "id": "e09Ey7ZSPOJ4"
      },
      "source": [
        "EDA"
      ]
    },
    {
      "cell_type": "code",
      "metadata": {
        "colab": {
          "base_uri": "https://localhost:8080/"
        },
        "id": "hiBwhgZ2PPCF",
        "outputId": "23a13f84-32e3-49e5-f24a-82fea516241b"
      },
      "source": [
        " df.target.value_counts() #1 is hd and 0 is not"
      ],
      "execution_count": 8,
      "outputs": [
        {
          "output_type": "execute_result",
          "data": {
            "text/plain": [
              "1    165\n",
              "0    138\n",
              "Name: target, dtype: int64"
            ]
          },
          "metadata": {},
          "execution_count": 8
        }
      ]
    },
    {
      "cell_type": "code",
      "metadata": {
        "colab": {
          "base_uri": "https://localhost:8080/",
          "height": 278
        },
        "id": "Jai1nhH0P6nG",
        "outputId": "d321bb2a-a57e-420c-e4aa-423901456df7"
      },
      "source": [
        "df.target.value_counts().plot(kind='bar',color=['salmon','lightblue'])"
      ],
      "execution_count": 10,
      "outputs": [
        {
          "output_type": "execute_result",
          "data": {
            "text/plain": [
              "<matplotlib.axes._subplots.AxesSubplot at 0x7fbf50d86e90>"
            ]
          },
          "metadata": {},
          "execution_count": 10
        },
        {
          "output_type": "display_data",
          "data": {
            "image/png": "[encoded data removed]",
            "text/plain": [
              "<Figure size 432x288 with 1 Axes>"
            ]
          },
          "metadata": {
            "needs_background": "light"
          }
        }
      ]
    },
    {
      "cell_type": "code",
      "metadata": {
        "colab": {
          "base_uri": "https://localhost:8080/",
          "height": 290
        },
        "id": "ZhhckGvEQIWV",
        "outputId": "0946462f-0f07-442f-9f72-156e87c83051"
      },
      "source": [
        "df.describe()"
      ],
      "execution_count": 12,
      "outputs": [
        {
          "output_type": "execute_result",
          "data": {
            "text/html": [
              "<div>\n",
              "<style scoped>\n",
              "    .dataframe tbody tr th:only-of-type {\n",
              "        vertical-align: middle;\n",
              "    }\n",
              "\n",
              "    .dataframe tbody tr th {\n",
              "        vertical-align: top;\n",
              "    }\n",
              "\n",
              "    .dataframe thead th {\n",
              "        text-align: right;\n",
              "    }\n",
              "</style>\n",
              "<table border=\"1\" class=\"dataframe\">\n",
              "  <thead>\n",
              "    <tr style=\"text-align: right;\">\n",
              "      <th></th>\n",
              "      <th>age</th>\n",
              "      <th>sex</th>\n",
              "      <th>cp</th>\n",
              "      <th>trestbps</th>\n",
              "      <th>chol</th>\n",
              "      <th>fbs</th>\n",
              "      <th>restecg</th>\n",
              "      <th>thalach</th>\n",
              "      <th>exang</th>\n",
              "      <th>oldpeak</th>\n",
              "      <th>slope</th>\n",
              "      <th>ca</th>\n",
              "      <th>thal</th>\n",
              "      <th>target</th>\n",
              "    </tr>\n",
              "  </thead>\n",
              "  <tbody>\n",
              "    <tr>\n",
              "      <th>count</th>\n",
              "      <td>303.000000</td>\n",
              "      <td>303.000000</td>\n",
              "      <td>303.000000</td>\n",
              "      <td>303.000000</td>\n",
              "      <td>303.000000</td>\n",
              "      <td>303.000000</td>\n",
              "      <td>303.000000</td>\n",
              "      <td>303.000000</td>\n",
              "      <td>303.000000</td>\n",
              "      <td>303.000000</td>\n",
              "      <td>303.000000</td>\n",
              "      <td>303.000000</td>\n",
              "      <td>303.000000</td>\n",
              "      <td>303.000000</td>\n",
              "    </tr>\n",
              "    <tr>\n",
              "      <th>mean</th>\n",
              "      <td>54.366337</td>\n",
              "      <td>0.683168</td>\n",
              "      <td>0.966997</td>\n",
              "      <td>131.623762</td>\n",
              "      <td>246.264026</td>\n",
              "      <td>0.148515</td>\n",
              "      <td>0.528053</td>\n",
              "      <td>149.646865</td>\n",
              "      <td>0.326733</td>\n",
              "      <td>1.039604</td>\n",
              "      <td>1.399340</td>\n",
              "      <td>0.729373</td>\n",
              "      <td>2.313531</td>\n",
              "      <td>0.544554</td>\n",
              "    </tr>\n",
              "    <tr>\n",
              "      <th>std</th>\n",
              "      <td>9.082101</td>\n",
              "      <td>0.466011</td>\n",
              "      <td>1.032052</td>\n",
              "      <td>17.538143</td>\n",
              "      <td>51.830751</td>\n",
              "      <td>0.356198</td>\n",
              "      <td>0.525860</td>\n",
              "      <td>22.905161</td>\n",
              "      <td>0.469794</td>\n",
              "      <td>1.161075</td>\n",
              "      <td>0.616226</td>\n",
              "      <td>1.022606</td>\n",
              "      <td>0.612277</td>\n",
              "      <td>0.498835</td>\n",
              "    </tr>\n",
              "    <tr>\n",
              "      <th>min</th>\n",
              "      <td>29.000000</td>\n",
              "      <td>0.000000</td>\n",
              "      <td>0.000000</td>\n",
              "      <td>94.000000</td>\n",
              "      <td>126.000000</td>\n",
              "      <td>0.000000</td>\n",
              "      <td>0.000000</td>\n",
              "      <td>71.000000</td>\n",
              "      <td>0.000000</td>\n",
              "      <td>0.000000</td>\n",
              "      <td>0.000000</td>\n",
              "      <td>0.000000</td>\n",
              "      <td>0.000000</td>\n",
              "      <td>0.000000</td>\n",
              "    </tr>\n",
              "    <tr>\n",
              "      <th>25%</th>\n",
              "      <td>47.500000</td>\n",
              "      <td>0.000000</td>\n",
              "      <td>0.000000</td>\n",
              "      <td>120.000000</td>\n",
              "      <td>211.000000</td>\n",
              "      <td>0.000000</td>\n",
              "      <td>0.000000</td>\n",
              "      <td>133.500000</td>\n",
              "      <td>0.000000</td>\n",
              "      <td>0.000000</td>\n",
              "      <td>1.000000</td>\n",
              "      <td>0.000000</td>\n",
              "      <td>2.000000</td>\n",
              "      <td>0.000000</td>\n",
              "    </tr>\n",
              "    <tr>\n",
              "      <th>50%</th>\n",
              "      <td>55.000000</td>\n",
              "      <td>1.000000</td>\n",
              "      <td>1.000000</td>\n",
              "      <td>130.000000</td>\n",
              "      <td>240.000000</td>\n",
              "      <td>0.000000</td>\n",
              "      <td>1.000000</td>\n",
              "      <td>153.000000</td>\n",
              "      <td>0.000000</td>\n",
              "      <td>0.800000</td>\n",
              "      <td>1.000000</td>\n",
              "      <td>0.000000</td>\n",
              "      <td>2.000000</td>\n",
              "      <td>1.000000</td>\n",
              "    </tr>\n",
              "    <tr>\n",
              "      <th>75%</th>\n",
              "      <td>61.000000</td>\n",
              "      <td>1.000000</td>\n",
              "      <td>2.000000</td>\n",
              "      <td>140.000000</td>\n",
              "      <td>274.500000</td>\n",
              "      <td>0.000000</td>\n",
              "      <td>1.000000</td>\n",
              "      <td>166.000000</td>\n",
              "      <td>1.000000</td>\n",
              "      <td>1.600000</td>\n",
              "      <td>2.000000</td>\n",
              "      <td>1.000000</td>\n",
              "      <td>3.000000</td>\n",
              "      <td>1.000000</td>\n",
              "    </tr>\n",
              "    <tr>\n",
              "      <th>max</th>\n",
              "      <td>77.000000</td>\n",
              "      <td>1.000000</td>\n",
              "      <td>3.000000</td>\n",
              "      <td>200.000000</td>\n",
              "      <td>564.000000</td>\n",
              "      <td>1.000000</td>\n",
              "      <td>2.000000</td>\n",
              "      <td>202.000000</td>\n",
              "      <td>1.000000</td>\n",
              "      <td>6.200000</td>\n",
              "      <td>2.000000</td>\n",
              "      <td>4.000000</td>\n",
              "      <td>3.000000</td>\n",
              "      <td>1.000000</td>\n",
              "    </tr>\n",
              "  </tbody>\n",
              "</table>\n",
              "</div>"
            ],
            "text/plain": [
              "              age         sex          cp  ...          ca        thal      target\n",
              "count  303.000000  303.000000  303.000000  ...  303.000000  303.000000  303.000000\n",
              "mean    54.366337    0.683168    0.966997  ...    0.729373    2.313531    0.544554\n",
              "std      9.082101    0.466011    1.032052  ...    1.022606    0.612277    0.498835\n",
              "min     29.000000    0.000000    0.000000  ...    0.000000    0.000000    0.000000\n",
              "25%     47.500000    0.000000    0.000000  ...    0.000000    2.000000    0.000000\n",
              "50%     55.000000    1.000000    1.000000  ...    0.000000    2.000000    1.000000\n",
              "75%     61.000000    1.000000    2.000000  ...    1.000000    3.000000    1.000000\n",
              "max     77.000000    1.000000    3.000000  ...    4.000000    3.000000    1.000000\n",
              "\n",
              "[8 rows x 14 columns]"
            ]
          },
          "metadata": {},
          "execution_count": 12
        }
      ]
    },
    {
      "cell_type": "code",
      "metadata": {
        "id": "EIyXiLJYQYAi"
      },
      "source": [
        "## heart disease frequency accordinng to sex"
      ],
      "execution_count": 15,
      "outputs": []
    },
    {
      "cell_type": "code",
      "metadata": {
        "colab": {
          "base_uri": "https://localhost:8080/"
        },
        "id": "nF9LsC_-QogI",
        "outputId": "b489b4ca-5178-4d2d-8cf5-092a621e3f56"
      },
      "source": [
        "df.sex.value_counts()"
      ],
      "execution_count": 14,
      "outputs": [
        {
          "output_type": "execute_result",
          "data": {
            "text/plain": [
              "1    207\n",
              "0     96\n",
              "Name: sex, dtype: int64"
            ]
          },
          "metadata": {},
          "execution_count": 14
        }
      ]
    },
    {
      "cell_type": "code",
      "metadata": {
        "id": "6ct2IffzQqd_"
      },
      "source": [
        "#compare the target column with the sex column"
      ],
      "execution_count": 16,
      "outputs": []
    },
    {
      "cell_type": "code",
      "metadata": {
        "colab": {
          "base_uri": "https://localhost:8080/",
          "height": 138
        },
        "id": "ITqJyLNLQy-t",
        "outputId": "2a6ab5ab-65ea-4065-bd65-afc9593ea14d"
      },
      "source": [
        "pd.crosstab(df.target, df.sex) # 1 is male and 0 is female"
      ],
      "execution_count": 22,
      "outputs": [
        {
          "output_type": "execute_result",
          "data": {
            "text/html": [
              "<div>\n",
              "<style scoped>\n",
              "    .dataframe tbody tr th:only-of-type {\n",
              "        vertical-align: middle;\n",
              "    }\n",
              "\n",
              "    .dataframe tbody tr th {\n",
              "        vertical-align: top;\n",
              "    }\n",
              "\n",
              "    .dataframe thead th {\n",
              "        text-align: right;\n",
              "    }\n",
              "</style>\n",
              "<table border=\"1\" class=\"dataframe\">\n",
              "  <thead>\n",
              "    <tr style=\"text-align: right;\">\n",
              "      <th>sex</th>\n",
              "      <th>0</th>\n",
              "      <th>1</th>\n",
              "    </tr>\n",
              "    <tr>\n",
              "      <th>target</th>\n",
              "      <th></th>\n",
              "      <th></th>\n",
              "    </tr>\n",
              "  </thead>\n",
              "  <tbody>\n",
              "    <tr>\n",
              "      <th>0</th>\n",
              "      <td>24</td>\n",
              "      <td>114</td>\n",
              "    </tr>\n",
              "    <tr>\n",
              "      <th>1</th>\n",
              "      <td>72</td>\n",
              "      <td>93</td>\n",
              "    </tr>\n",
              "  </tbody>\n",
              "</table>\n",
              "</div>"
            ],
            "text/plain": [
              "sex      0    1\n",
              "target         \n",
              "0       24  114\n",
              "1       72   93"
            ]
          },
          "metadata": {},
          "execution_count": 22
        }
      ]
    },
    {
      "cell_type": "code",
      "metadata": {
        "colab": {
          "base_uri": "https://localhost:8080/",
          "height": 292
        },
        "id": "v0cxta3CQ3GF",
        "outputId": "313d3097-3c66-4305-9896-967336a5bede"
      },
      "source": [
        "pd.crosstab(df.target, df.sex).plot(kind='bar')"
      ],
      "execution_count": 21,
      "outputs": [
        {
          "output_type": "execute_result",
          "data": {
            "text/plain": [
              "<matplotlib.axes._subplots.AxesSubplot at 0x7fbf4fec27d0>"
            ]
          },
          "metadata": {},
          "execution_count": 21
        },
        {
          "output_type": "display_data",
          "data": {
            "image/png": "[encoded data removed]",
            "text/plain": [
              "<Figure size 432x288 with 1 Axes>"
            ]
          },
          "metadata": {
            "needs_background": "light"
          }
        }
      ]
    },
    {
      "cell_type": "code",
      "metadata": {
        "id": "T97lJhK_Q_41"
      },
      "source": [
        "#chest pain vs heart disease 0,1,2,3,4"
      ],
      "execution_count": 23,
      "outputs": []
    },
    {
      "cell_type": "code",
      "metadata": {
        "colab": {
          "base_uri": "https://localhost:8080/",
          "height": 200
        },
        "id": "bq8YbaxRSldx",
        "outputId": "d45506cf-13c5-4bcc-ef21-d819f250c231"
      },
      "source": [
        "pd.crosstab(df.cp, df.target)"
      ],
      "execution_count": 24,
      "outputs": [
        {
          "output_type": "execute_result",
          "data": {
            "text/html": [
              "<div>\n",
              "<style scoped>\n",
              "    .dataframe tbody tr th:only-of-type {\n",
              "        vertical-align: middle;\n",
              "    }\n",
              "\n",
              "    .dataframe tbody tr th {\n",
              "        vertical-align: top;\n",
              "    }\n",
              "\n",
              "    .dataframe thead th {\n",
              "        text-align: right;\n",
              "    }\n",
              "</style>\n",
              "<table border=\"1\" class=\"dataframe\">\n",
              "  <thead>\n",
              "    <tr style=\"text-align: right;\">\n",
              "      <th>target</th>\n",
              "      <th>0</th>\n",
              "      <th>1</th>\n",
              "    </tr>\n",
              "    <tr>\n",
              "      <th>cp</th>\n",
              "      <th></th>\n",
              "      <th></th>\n",
              "    </tr>\n",
              "  </thead>\n",
              "  <tbody>\n",
              "    <tr>\n",
              "      <th>0</th>\n",
              "      <td>104</td>\n",
              "      <td>39</td>\n",
              "    </tr>\n",
              "    <tr>\n",
              "      <th>1</th>\n",
              "      <td>9</td>\n",
              "      <td>41</td>\n",
              "    </tr>\n",
              "    <tr>\n",
              "      <th>2</th>\n",
              "      <td>18</td>\n",
              "      <td>69</td>\n",
              "    </tr>\n",
              "    <tr>\n",
              "      <th>3</th>\n",
              "      <td>7</td>\n",
              "      <td>16</td>\n",
              "    </tr>\n",
              "  </tbody>\n",
              "</table>\n",
              "</div>"
            ],
            "text/plain": [
              "target    0   1\n",
              "cp             \n",
              "0       104  39\n",
              "1         9  41\n",
              "2        18  69\n",
              "3         7  16"
            ]
          },
          "metadata": {},
          "execution_count": 24
        }
      ]
    },
    {
      "cell_type": "code",
      "metadata": {
        "colab": {
          "base_uri": "https://localhost:8080/",
          "height": 311
        },
        "id": "tMGTdXkZSplY",
        "outputId": "ef5dfe5f-ba54-46fc-f34a-c0195181edae"
      },
      "source": [
        "pd.crosstab(df.cp, df.target).plot(kind='bar',figsize=(8,4),\n",
        "                                   color=['salmon','lightblue'])\n",
        "plt.title('heart disease frequency per chest pain type')\n",
        "plt.xlabel('chest pain type')\n",
        "plt.ylabel('amount')\n",
        "plt.legend(['no disease','disease'])\n",
        "plt.xticks(rotation=0)"
      ],
      "execution_count": 27,
      "outputs": [
        {
          "output_type": "execute_result",
          "data": {
            "text/plain": [
              "(array([0, 1, 2, 3]), <a list of 4 Text major ticklabel objects>)"
            ]
          },
          "metadata": {},
          "execution_count": 27
        },
        {
          "output_type": "display_data",
          "data": {
            "image/png": "[encoded data removed]",
            "text/plain": [
              "<Figure size 576x288 with 1 Axes>"
            ]
          },
          "metadata": {
            "needs_background": "light"
          }
        }
      ]
    },
    {
      "cell_type": "code",
      "metadata": {
        "id": "9X-cT20aSyph"
      },
      "source": [
        "import seaborn as sns"
      ],
      "execution_count": 28,
      "outputs": []
    },
    {
      "cell_type": "code",
      "metadata": {
        "colab": {
          "base_uri": "https://localhost:8080/",
          "height": 611
        },
        "id": "KYe_vrgiUJDU",
        "outputId": "bcffd78f-0239-4eb9-d7ee-ad94addaca68"
      },
      "source": [
        "plt.figure(figsize=(15,10))\n",
        "sns.heatmap(df.corr(),annot=True,linewidths=0.5,fmt='.2f',cmap='YlGnBu')"
      ],
      "execution_count": 34,
      "outputs": [
        {
          "output_type": "execute_result",
          "data": {
            "text/plain": [
              "<matplotlib.axes._subplots.AxesSubplot at 0x7fbf36617d10>"
            ]
          },
          "metadata": {},
          "execution_count": 34
        },
        {
          "output_type": "display_data",
          "data": {
            "image/png": "[encoded data removed]",
            "text/plain": [
              "<Figure size 1080x720 with 2 Axes>"
            ]
          },
          "metadata": {
            "needs_background": "light"
          }
        }
      ]
    },
    {
      "cell_type": "code",
      "metadata": {
        "id": "-AZxmIQwUMr6"
      },
      "source": [
        "from sklearn.model_selection import train_test_split"
      ],
      "execution_count": 35,
      "outputs": []
    },
    {
      "cell_type": "code",
      "metadata": {
        "id": "4mhmuA3kYp_C"
      },
      "source": [
        "x = df.drop('target',axis=1)\n",
        "y = df.target"
      ],
      "execution_count": 36,
      "outputs": []
    },
    {
      "cell_type": "code",
      "metadata": {
        "id": "FYNMHQLAYxKc"
      },
      "source": [
        "x_train, x_test, y_train, y_test = train_test_split(x,y,test_size=0.2,random_state=101)"
      ],
      "execution_count": 51,
      "outputs": []
    },
    {
      "cell_type": "code",
      "metadata": {
        "id": "R_LOYxblY5wR"
      },
      "source": [
        "from sklearn.linear_model import LogisticRegression\n",
        "from sklearn.neighbors import KNeighborsClassifier\n",
        "from sklearn.ensemble import RandomForestClassifier\n",
        "from sklearn.model_selection import RandomizedSearchCV, GridSearchCV, cross_val_score"
      ],
      "execution_count": 158,
      "outputs": []
    },
    {
      "cell_type": "code",
      "metadata": {
        "id": "sFFAHhimb6aJ"
      },
      "source": [
        "models = {'Logistic Regression': LogisticRegression(solver='lbfgs',max_iter=1000),\n",
        "          'KNN': KNeighborsClassifier(),\n",
        "          'Random Forest': RandomForestClassifier()}"
      ],
      "execution_count": 62,
      "outputs": []
    },
    {
      "cell_type": "code",
      "metadata": {
        "id": "hfP9S-t1cFRk"
      },
      "source": [
        "def fit_and_score(model, x_train, x_test, y_train, y_test):\n",
        "\n",
        "  np.random.seed(42)\n",
        "  model_scores = {}\n",
        "  for name, model in models.items():\n",
        "    model.fit(x_train,y_train)\n",
        "    model_scores[name] = model.score(x_test,y_test)\n",
        "\n",
        "  return model_scores\n"
      ],
      "execution_count": 63,
      "outputs": []
    },
    {
      "cell_type": "code",
      "metadata": {
        "id": "K5YVwSXkcmC4"
      },
      "source": [
        "model_scores = fit_and_score(model=models, x_train=x_train, x_test=x_test, y_train=y_train, y_test=y_test)"
      ],
      "execution_count": 64,
      "outputs": []
    },
    {
      "cell_type": "code",
      "metadata": {
        "colab": {
          "base_uri": "https://localhost:8080/"
        },
        "id": "mvziFGDYc_Z4",
        "outputId": "afc57bcd-dcd9-47b2-e212-109fa8fef8cf"
      },
      "source": [
        "model_scores"
      ],
      "execution_count": 65,
      "outputs": [
        {
          "output_type": "execute_result",
          "data": {
            "text/plain": [
              "{'KNN': 0.6557377049180327,\n",
              " 'Logistic Regression': 0.8360655737704918,\n",
              " 'Random Forest': 0.8524590163934426}"
            ]
          },
          "metadata": {},
          "execution_count": 65
        }
      ]
    },
    {
      "cell_type": "code",
      "metadata": {
        "colab": {
          "base_uri": "https://localhost:8080/",
          "height": 367
        },
        "id": "2GWiwL47ev7m",
        "outputId": "aee92b57-65e1-4cb1-caa7-1ca8f03219e0"
      },
      "source": [
        "model_compare = pd.DataFrame(model_scores,index=['accuracy'])\n",
        "model_compare.T.plot.bar()"
      ],
      "execution_count": 66,
      "outputs": [
        {
          "output_type": "execute_result",
          "data": {
            "text/plain": [
              "<matplotlib.axes._subplots.AxesSubplot at 0x7fbf3146f310>"
            ]
          },
          "metadata": {},
          "execution_count": 66
        },
        {
          "output_type": "display_data",
          "data": {
            "image/png": "[encoded data removed]",
            "text/plain": [
              "<Figure size 432x288 with 1 Axes>"
            ]
          },
          "metadata": {
            "needs_background": "light"
          }
        }
      ]
    },
    {
      "cell_type": "code",
      "metadata": {
        "id": "Bd7lAKvcfOUJ"
      },
      "source": [
        "#hypertuning of the model\n",
        "#feature importance\n",
        "#cross-valiation\n",
        "#roc curve\n",
        "#auc "
      ],
      "execution_count": 70,
      "outputs": []
    },
    {
      "cell_type": "code",
      "metadata": {
        "id": "gtneUOzXf2mc"
      },
      "source": [
        "#let's try knn\n",
        "\n",
        "train_scores = []\n",
        "test_scores = []\n",
        "\n",
        "#create a list of different values n_neigbors\n",
        "neighbors = range(1,21)\n",
        "\n",
        "#setup KNN instance\n",
        "knn = KNeighborsClassifier()\n",
        "\n",
        "#loop through different n_neighbors\n",
        "for i in neighbors:\n",
        "  knn.set_params(n_neighbors=i)\n",
        "\n",
        "  #fit the algorithm\n",
        "  knn.fit(x_train, y_train)\n",
        "\n",
        "  #update the training scores list\n",
        "  train_scores.append(knn.score(x_train,y_train))\n",
        "\n",
        "  #update the testing scores list\n",
        "  test_scores.append(knn.score(x_test, y_test))\n",
        "          "
      ],
      "execution_count": 72,
      "outputs": []
    },
    {
      "cell_type": "code",
      "metadata": {
        "colab": {
          "base_uri": "https://localhost:8080/"
        },
        "id": "suiXKLORhJ-W",
        "outputId": "ae366802-0d92-4c8c-b8e4-8dbe75a45e0a"
      },
      "source": [
        "train_scores"
      ],
      "execution_count": 73,
      "outputs": [
        {
          "output_type": "execute_result",
          "data": {
            "text/plain": [
              "[1.0,\n",
              " 0.7851239669421488,\n",
              " 0.731404958677686,\n",
              " 0.7520661157024794,\n",
              " 0.7396694214876033,\n",
              " 0.7355371900826446,\n",
              " 0.743801652892562,\n",
              " 0.7231404958677686,\n",
              " 0.7024793388429752,\n",
              " 0.7024793388429752,\n",
              " 0.7148760330578512,\n",
              " 0.7066115702479339,\n",
              " 0.6942148760330579,\n",
              " 0.6983471074380165,\n",
              " 0.7066115702479339,\n",
              " 0.7107438016528925,\n",
              " 0.6942148760330579,\n",
              " 0.7107438016528925,\n",
              " 0.7024793388429752,\n",
              " 0.6942148760330579]"
            ]
          },
          "metadata": {},
          "execution_count": 73
        }
      ]
    },
    {
      "cell_type": "code",
      "metadata": {
        "colab": {
          "base_uri": "https://localhost:8080/"
        },
        "id": "VuAPx_5NhPrs",
        "outputId": "b89f1603-ff55-42f9-f825-40baa9845abd"
      },
      "source": [
        "test_scores"
      ],
      "execution_count": 74,
      "outputs": [
        {
          "output_type": "execute_result",
          "data": {
            "text/plain": [
              "[0.6721311475409836,\n",
              " 0.6721311475409836,\n",
              " 0.7049180327868853,\n",
              " 0.6557377049180327,\n",
              " 0.6557377049180327,\n",
              " 0.6229508196721312,\n",
              " 0.6229508196721312,\n",
              " 0.6885245901639344,\n",
              " 0.6557377049180327,\n",
              " 0.7049180327868853,\n",
              " 0.6885245901639344,\n",
              " 0.6885245901639344,\n",
              " 0.639344262295082,\n",
              " 0.7049180327868853,\n",
              " 0.7049180327868853,\n",
              " 0.7049180327868853,\n",
              " 0.7049180327868853,\n",
              " 0.6885245901639344,\n",
              " 0.6557377049180327,\n",
              " 0.6885245901639344]"
            ]
          },
          "metadata": {},
          "execution_count": 74
        }
      ]
    },
    {
      "cell_type": "code",
      "metadata": {
        "colab": {
          "base_uri": "https://localhost:8080/",
          "height": 513
        },
        "id": "xilGLrcihRBC",
        "outputId": "a5f68c13-d097-425a-c131-5930f8977b1b"
      },
      "source": [
        "plt.figure(figsize=(15,8))\n",
        "plt.plot(neighbors, train_scores,label='train score')\n",
        "plt.plot(neighbors, test_scores, label='test scores')\n",
        "plt.xticks(np.arange(1,21,1))\n",
        "plt.xlabel('number of neighbors')\n",
        "plt.ylabel('Model score')\n",
        "plt.legend()\n",
        "\n",
        "print(f'Max KNN score on the test data is: {max(test_scores) * 100:.2f}%')"
      ],
      "execution_count": 77,
      "outputs": [
        {
          "output_type": "stream",
          "name": "stdout",
          "text": [
            "Max KNN score on the test data is: 70.49%\n"
          ]
        },
        {
          "output_type": "display_data",
          "data": {
            "image/png": "[encoded data removed]",
            "text/plain": [
              "<Figure size 1080x576 with 1 Axes>"
            ]
          },
          "metadata": {
            "needs_background": "light"
          }
        }
      ]
    },
    {
      "cell_type": "code",
      "metadata": {
        "id": "eDAPvmo6h4qD"
      },
      "source": [
        "#hyperparameter tuning with randomized search cv"
      ],
      "execution_count": 78,
      "outputs": []
    },
    {
      "cell_type": "code",
      "metadata": {
        "id": "rmQ6NFaMulrl"
      },
      "source": [
        "#create a hyperparameter grid for logisitc regression\n",
        "\n",
        "log_reg_grid = {'C':np.logspace(-4,4,20),\n",
        "                'solver':['liblinear']}\n",
        "\n",
        "#for randomforest\n",
        "rf_grid = {'n_estimators':np.arange(10,1000,50),\n",
        "           'max_depth':[None,3,5,10],\n",
        "           'min_samples_split':np.arange(2,20,2),\n",
        "           'min_samples_leaf': np.arange(1,20,2)}"
      ],
      "execution_count": 88,
      "outputs": []
    },
    {
      "cell_type": "code",
      "metadata": {
        "colab": {
          "base_uri": "https://localhost:8080/"
        },
        "id": "CIEPnc_jvYlb",
        "outputId": "9e8f46c1-1f90-4a9a-ab0c-caf16f3ec005"
      },
      "source": [
        "#tune logistic regrression\n",
        "\n",
        "np.random.seed(42)\n",
        "\n",
        "#setup random hyperparameter search for Logistic Regeression\n",
        "rs_log_reg = RandomizedSearchCV(LogisticRegression(),\n",
        "                                param_distributions=log_reg_grid,\n",
        "                                cv=5,\n",
        "                                n_iter=20,\n",
        "                                verbose=True)\n",
        "\n",
        "rs_log_reg.fit(x_train, y_train)"
      ],
      "execution_count": 83,
      "outputs": [
        {
          "output_type": "stream",
          "name": "stdout",
          "text": [
            "Fitting 5 folds for each of 20 candidates, totalling 100 fits\n"
          ]
        },
        {
          "output_type": "stream",
          "name": "stderr",
          "text": [
            "[Parallel(n_jobs=1)]: Using backend SequentialBackend with 1 concurrent workers.\n",
            "[Parallel(n_jobs=1)]: Done 100 out of 100 | elapsed:    0.4s finished\n"
          ]
        },
        {
          "output_type": "execute_result",
          "data": {
            "text/plain": [
              "RandomizedSearchCV(cv=5, error_score=nan,\n",
              "                   estimator=LogisticRegression(C=1.0, class_weight=None,\n",
              "                                                dual=False, fit_intercept=True,\n",
              "                                                intercept_scaling=1,\n",
              "                                                l1_ratio=None, max_iter=100,\n",
              "                                                multi_class='auto', n_jobs=None,\n",
              "                                                penalty='l2', random_state=None,\n",
              "                                                solver='lbfgs', tol=0.0001,\n",
              "                                                verbose=0, warm_start=False),\n",
              "                   iid='deprecated', n_iter=20, n_jobs=None,\n",
              "                   param_distributions={'C':...\n",
              "       4.83293024e-03, 1.27427499e-02, 3.35981829e-02, 8.85866790e-02,\n",
              "       2.33572147e-01, 6.15848211e-01, 1.62377674e+00, 4.28133240e+00,\n",
              "       1.12883789e+01, 2.97635144e+01, 7.84759970e+01, 2.06913808e+02,\n",
              "       5.45559478e+02, 1.43844989e+03, 3.79269019e+03, 1.00000000e+04]),\n",
              "                                        'solver': ['liblinear']},\n",
              "                   pre_dispatch='2*n_jobs', random_state=None, refit=True,\n",
              "                   return_train_score=False, scoring=None, verbose=True)"
            ]
          },
          "metadata": {},
          "execution_count": 83
        }
      ]
    },
    {
      "cell_type": "code",
      "metadata": {
        "colab": {
          "base_uri": "https://localhost:8080/"
        },
        "id": "DOsyVh24w2Kc",
        "outputId": "11aec175-5bce-4dd8-b8f1-faf0b2593269"
      },
      "source": [
        "rs_log_reg.best_params_"
      ],
      "execution_count": 84,
      "outputs": [
        {
          "output_type": "execute_result",
          "data": {
            "text/plain": [
              "{'C': 0.23357214690901212, 'solver': 'liblinear'}"
            ]
          },
          "metadata": {},
          "execution_count": 84
        }
      ]
    },
    {
      "cell_type": "code",
      "metadata": {
        "colab": {
          "base_uri": "https://localhost:8080/"
        },
        "id": "ozxueMd7w9tK",
        "outputId": "aa88ecb4-3704-4815-a9b7-55ce838b01cc"
      },
      "source": [
        "rs_log_reg.score(x_test,y_test)"
      ],
      "execution_count": 85,
      "outputs": [
        {
          "output_type": "execute_result",
          "data": {
            "text/plain": [
              "0.8524590163934426"
            ]
          },
          "metadata": {},
          "execution_count": 85
        }
      ]
    },
    {
      "cell_type": "code",
      "metadata": {
        "colab": {
          "base_uri": "https://localhost:8080/"
        },
        "id": "JlFZlhjJxCLZ",
        "outputId": "09404050-644a-4798-bd08-3c396cd310cc"
      },
      "source": [
        "#tune random forest\n",
        "np.random.seed(42)\n",
        "\n",
        "rs_rf = RandomizedSearchCV(RandomForestClassifier(),\n",
        "                           param_distributions=rf_grid,\n",
        "                           cv=5,\n",
        "                           n_iter=20,\n",
        "                           verbose=True)\n",
        "\n",
        "rs_rf.fit(x_train,y_train)\n"
      ],
      "execution_count": 89,
      "outputs": [
        {
          "output_type": "stream",
          "name": "stdout",
          "text": [
            "Fitting 5 folds for each of 20 candidates, totalling 100 fits\n"
          ]
        },
        {
          "output_type": "stream",
          "name": "stderr",
          "text": [
            "[Parallel(n_jobs=1)]: Using backend SequentialBackend with 1 concurrent workers.\n",
            "[Parallel(n_jobs=1)]: Done 100 out of 100 | elapsed:  1.2min finished\n"
          ]
        },
        {
          "output_type": "execute_result",
          "data": {
            "text/plain": [
              "RandomizedSearchCV(cv=5, error_score=nan,\n",
              "                   estimator=RandomForestClassifier(bootstrap=True,\n",
              "                                                    ccp_alpha=0.0,\n",
              "                                                    class_weight=None,\n",
              "                                                    criterion='gini',\n",
              "                                                    max_depth=None,\n",
              "                                                    max_features='auto',\n",
              "                                                    max_leaf_nodes=None,\n",
              "                                                    max_samples=None,\n",
              "                                                    min_impurity_decrease=0.0,\n",
              "                                                    min_impurity_split=None,\n",
              "                                                    min_samples_leaf=1,\n",
              "                                                    min_samples_split=2,\n",
              "                                                    min_weight_fraction_leaf=0.0,\n",
              "                                                    n_estimators=100,\n",
              "                                                    n_jobs...\n",
              "                   param_distributions={'max_depth': [None, 3, 5, 10],\n",
              "                                        'min_samples_leaf': array([ 1,  3,  5,  7,  9, 11, 13, 15, 17, 19]),\n",
              "                                        'min_samples_split': array([ 2,  4,  6,  8, 10, 12, 14, 16, 18]),\n",
              "                                        'n_estimators': array([ 10,  60, 110, 160, 210, 260, 310, 360, 410, 460, 510, 560, 610,\n",
              "       660, 710, 760, 810, 860, 910, 960])},\n",
              "                   pre_dispatch='2*n_jobs', random_state=None, refit=True,\n",
              "                   return_train_score=False, scoring=None, verbose=True)"
            ]
          },
          "metadata": {},
          "execution_count": 89
        }
      ]
    },
    {
      "cell_type": "code",
      "metadata": {
        "colab": {
          "base_uri": "https://localhost:8080/"
        },
        "id": "48-go_fPxrqv",
        "outputId": "be3af0a4-b605-4297-d230-a64f9b6cff03"
      },
      "source": [
        "rs_rf.best_params_"
      ],
      "execution_count": 90,
      "outputs": [
        {
          "output_type": "execute_result",
          "data": {
            "text/plain": [
              "{'max_depth': 5,\n",
              " 'min_samples_leaf': 9,\n",
              " 'min_samples_split': 12,\n",
              " 'n_estimators': 310}"
            ]
          },
          "metadata": {},
          "execution_count": 90
        }
      ]
    },
    {
      "cell_type": "code",
      "metadata": {
        "colab": {
          "base_uri": "https://localhost:8080/"
        },
        "id": "xk1izfg6yQUt",
        "outputId": "3411e239-fefe-4405-8dc3-8ac7d22ab7e1"
      },
      "source": [
        "rs_rf.score(x_test,y_test)"
      ],
      "execution_count": 91,
      "outputs": [
        {
          "output_type": "execute_result",
          "data": {
            "text/plain": [
              "0.8524590163934426"
            ]
          },
          "metadata": {},
          "execution_count": 91
        }
      ]
    },
    {
      "cell_type": "code",
      "metadata": {
        "id": "3-4pDl9nyWhB"
      },
      "source": [
        "#hyperparameter tuning grid search\n"
      ],
      "execution_count": 92,
      "outputs": []
    },
    {
      "cell_type": "code",
      "metadata": {
        "id": "KJJwctjxy916"
      },
      "source": [
        "log_reg_grid = {'C':np.logspace(-4,4,30),\n",
        "                'solver':['liblinear']}\n",
        "\n",
        "gs_log_reg = GridSearchCV(estimator=LogisticRegression(),\n",
        "                          param_grid=log_reg_grid,\n",
        "                          cv=5,\n",
        "                          verbose=True)"
      ],
      "execution_count": 97,
      "outputs": []
    },
    {
      "cell_type": "code",
      "metadata": {
        "colab": {
          "base_uri": "https://localhost:8080/"
        },
        "id": "AeJJef0hzhGt",
        "outputId": "1d43d5c8-d499-41fe-b53f-6f5d6219be13"
      },
      "source": [
        "gs_log_reg.fit(x_train,y_train)"
      ],
      "execution_count": 98,
      "outputs": [
        {
          "output_type": "stream",
          "name": "stdout",
          "text": [
            "Fitting 5 folds for each of 30 candidates, totalling 150 fits\n"
          ]
        },
        {
          "output_type": "stream",
          "name": "stderr",
          "text": [
            "[Parallel(n_jobs=1)]: Using backend SequentialBackend with 1 concurrent workers.\n",
            "[Parallel(n_jobs=1)]: Done 150 out of 150 | elapsed:    0.6s finished\n"
          ]
        },
        {
          "output_type": "execute_result",
          "data": {
            "text/plain": [
              "GridSearchCV(cv=5, error_score=nan,\n",
              "             estimator=LogisticRegression(C=1.0, class_weight=None, dual=False,\n",
              "                                          fit_intercept=True,\n",
              "                                          intercept_scaling=1, l1_ratio=None,\n",
              "                                          max_iter=100, multi_class='auto',\n",
              "                                          n_jobs=None, penalty='l2',\n",
              "                                          random_state=None, solver='lbfgs',\n",
              "                                          tol=0.0001, verbose=0,\n",
              "                                          warm_start=False),\n",
              "             iid='deprecated', n_jobs=None,\n",
              "             param_grid={'C': array([1.00000000e-04, 1.8...\n",
              "       2.04335972e-01, 3.85662042e-01, 7.27895384e-01, 1.37382380e+00,\n",
              "       2.59294380e+00, 4.89390092e+00, 9.23670857e+00, 1.74332882e+01,\n",
              "       3.29034456e+01, 6.21016942e+01, 1.17210230e+02, 2.21221629e+02,\n",
              "       4.17531894e+02, 7.88046282e+02, 1.48735211e+03, 2.80721620e+03,\n",
              "       5.29831691e+03, 1.00000000e+04]),\n",
              "                         'solver': ['liblinear']},\n",
              "             pre_dispatch='2*n_jobs', refit=True, return_train_score=False,\n",
              "             scoring=None, verbose=True)"
            ]
          },
          "metadata": {},
          "execution_count": 98
        }
      ]
    },
    {
      "cell_type": "code",
      "metadata": {
        "colab": {
          "base_uri": "https://localhost:8080/"
        },
        "id": "RdDhrhsHzl5N",
        "outputId": "25492002-b84e-4336-e686-fa0de54e5072"
      },
      "source": [
        "gs_log_reg.best_params_"
      ],
      "execution_count": 99,
      "outputs": [
        {
          "output_type": "execute_result",
          "data": {
            "text/plain": [
              "{'C': 0.1082636733874054, 'solver': 'liblinear'}"
            ]
          },
          "metadata": {},
          "execution_count": 99
        }
      ]
    },
    {
      "cell_type": "code",
      "metadata": {
        "colab": {
          "base_uri": "https://localhost:8080/"
        },
        "id": "75bE48xqzskh",
        "outputId": "8596492c-e425-4ba4-b5b4-6d4a3d1ccb82"
      },
      "source": [
        "gs_log_reg.score(x_test,y_test)"
      ],
      "execution_count": 100,
      "outputs": [
        {
          "output_type": "execute_result",
          "data": {
            "text/plain": [
              "0.8524590163934426"
            ]
          },
          "metadata": {},
          "execution_count": 100
        }
      ]
    },
    {
      "cell_type": "code",
      "metadata": {
        "colab": {
          "base_uri": "https://localhost:8080/"
        },
        "id": "dSGUt_frzvvW",
        "outputId": "a12e9a99-c57a-47a1-a889-f535b1739020"
      },
      "source": [
        "model_scores"
      ],
      "execution_count": 101,
      "outputs": [
        {
          "output_type": "execute_result",
          "data": {
            "text/plain": [
              "{'KNN': 0.6557377049180327,\n",
              " 'Logistic Regression': 0.8360655737704918,\n",
              " 'Random Forest': 0.8524590163934426}"
            ]
          },
          "metadata": {},
          "execution_count": 101
        }
      ]
    },
    {
      "cell_type": "code",
      "metadata": {
        "id": "GFhMSu7fz0Pi"
      },
      "source": [
        "rf_grid = {'n_estimators': [100,200,500],\n",
        "           'max_depth':[None],\n",
        "           'min_samples_split':[6],\n",
        "           'min_samples_leaf': [1,2]}"
      ],
      "execution_count": 126,
      "outputs": []
    },
    {
      "cell_type": "code",
      "metadata": {
        "id": "N5WAszvo0VNY"
      },
      "source": [
        "gs_rf = GridSearchCV(RandomForestClassifier(),\n",
        "                     param_grid=rf_grid,\n",
        "                     cv=5,\n",
        "                     verbose=True)"
      ],
      "execution_count": 127,
      "outputs": []
    },
    {
      "cell_type": "code",
      "metadata": {
        "colab": {
          "base_uri": "https://localhost:8080/"
        },
        "id": "D5AHN7rh0gGG",
        "outputId": "2297309d-91b9-473f-bb18-2fb7ce793bbc"
      },
      "source": [
        "gs_rf.fit(x_train,y_train)"
      ],
      "execution_count": 128,
      "outputs": [
        {
          "output_type": "stream",
          "name": "stdout",
          "text": [
            "Fitting 5 folds for each of 6 candidates, totalling 30 fits\n"
          ]
        },
        {
          "output_type": "stream",
          "name": "stderr",
          "text": [
            "[Parallel(n_jobs=1)]: Using backend SequentialBackend with 1 concurrent workers.\n",
            "[Parallel(n_jobs=1)]: Done  30 out of  30 | elapsed:   12.3s finished\n"
          ]
        },
        {
          "output_type": "execute_result",
          "data": {
            "text/plain": [
              "GridSearchCV(cv=5, error_score=nan,\n",
              "             estimator=RandomForestClassifier(bootstrap=True, ccp_alpha=0.0,\n",
              "                                              class_weight=None,\n",
              "                                              criterion='gini', max_depth=None,\n",
              "                                              max_features='auto',\n",
              "                                              max_leaf_nodes=None,\n",
              "                                              max_samples=None,\n",
              "                                              min_impurity_decrease=0.0,\n",
              "                                              min_impurity_split=None,\n",
              "                                              min_samples_leaf=1,\n",
              "                                              min_samples_split=2,\n",
              "                                              min_weight_fraction_leaf=0.0,\n",
              "                                              n_estimators=100, n_jobs=None,\n",
              "                                              oob_score=False,\n",
              "                                              random_state=None, verbose=0,\n",
              "                                              warm_start=False),\n",
              "             iid='deprecated', n_jobs=None,\n",
              "             param_grid={'max_depth': [None], 'min_samples_leaf': [1, 2],\n",
              "                         'min_samples_split': [6],\n",
              "                         'n_estimators': [100, 200, 500]},\n",
              "             pre_dispatch='2*n_jobs', refit=True, return_train_score=False,\n",
              "             scoring=None, verbose=True)"
            ]
          },
          "metadata": {},
          "execution_count": 128
        }
      ]
    },
    {
      "cell_type": "code",
      "metadata": {
        "colab": {
          "base_uri": "https://localhost:8080/"
        },
        "id": "wv9aQv6W0jKN",
        "outputId": "96cfa5f7-6274-4f6c-8172-aa246d9d0341"
      },
      "source": [
        "gs_rf.best_params_"
      ],
      "execution_count": 129,
      "outputs": [
        {
          "output_type": "execute_result",
          "data": {
            "text/plain": [
              "{'max_depth': None,\n",
              " 'min_samples_leaf': 2,\n",
              " 'min_samples_split': 6,\n",
              " 'n_estimators': 100}"
            ]
          },
          "metadata": {},
          "execution_count": 129
        }
      ]
    },
    {
      "cell_type": "code",
      "metadata": {
        "colab": {
          "base_uri": "https://localhost:8080/"
        },
        "id": "9DZ2Hth17ZGM",
        "outputId": "cadecaad-deae-43ec-dbaa-eda445d6d5f7"
      },
      "source": [
        "gs_rf.score(x_test,y_test)"
      ],
      "execution_count": 130,
      "outputs": [
        {
          "output_type": "execute_result",
          "data": {
            "text/plain": [
              "0.8524590163934426"
            ]
          },
          "metadata": {},
          "execution_count": 130
        }
      ]
    },
    {
      "cell_type": "code",
      "metadata": {
        "id": "ev6uIB1s7c7P"
      },
      "source": [
        "y_preds = gs_log_reg.predict(x_test)"
      ],
      "execution_count": 132,
      "outputs": []
    },
    {
      "cell_type": "code",
      "metadata": {
        "colab": {
          "base_uri": "https://localhost:8080/"
        },
        "id": "aN6DgoYE72ON",
        "outputId": "b59085c6-0825-4b82-8544-d56596fd6586"
      },
      "source": [
        "y_preds"
      ],
      "execution_count": 133,
      "outputs": [
        {
          "output_type": "execute_result",
          "data": {
            "text/plain": [
              "array([0, 1, 1, 1, 0, 1, 1, 0, 0, 1, 0, 1, 0, 1, 1, 1, 1, 1, 1, 0, 0, 1,\n",
              "       1, 1, 0, 1, 0, 1, 0, 0, 0, 1, 0, 1, 1, 1, 1, 1, 1, 1, 0, 1, 1, 1,\n",
              "       1, 0, 0, 1, 1, 0, 0, 1, 0, 1, 1, 0, 0, 1, 0, 0, 1])"
            ]
          },
          "metadata": {},
          "execution_count": 133
        }
      ]
    },
    {
      "cell_type": "code",
      "metadata": {
        "id": "vr05t2EP7613"
      },
      "source": [
        "from sklearn.metrics import roc_curve, plot_roc_curve,confusion_matrix,classification_report,precision_score,recall_score,f1_score,plot_confusion_matrix\n",
        "import seaborn as sns"
      ],
      "execution_count": 146,
      "outputs": []
    },
    {
      "cell_type": "code",
      "metadata": {
        "colab": {
          "base_uri": "https://localhost:8080/",
          "height": 295
        },
        "id": "qQWR8ItU9Feo",
        "outputId": "38fc489a-ddf9-4baa-8ced-3df0c01a9699"
      },
      "source": [
        "plot_roc_curve(gs_log_reg, x_test, y_test)"
      ],
      "execution_count": 136,
      "outputs": [
        {
          "output_type": "execute_result",
          "data": {
            "text/plain": [
              "<sklearn.metrics._plot.roc_curve.RocCurveDisplay at 0x7fbf31382a10>"
            ]
          },
          "metadata": {},
          "execution_count": 136
        },
        {
          "output_type": "display_data",
          "data": {
            "image/png": "[encoded data removed]",
            "text/plain": [
              "<Figure size 432x288 with 1 Axes>"
            ]
          },
          "metadata": {
            "needs_background": "light"
          }
        }
      ]
    },
    {
      "cell_type": "code",
      "metadata": {
        "colab": {
          "base_uri": "https://localhost:8080/",
          "height": 242
        },
        "id": "QEaOFjq79abK",
        "outputId": "2651d898-7d3e-48d1-9d62-3b9244e42de9"
      },
      "source": [
        "sns.set(font_scale=1.5)\n",
        "\n",
        "def plot_conf_mat(y_test,y_preds):\n",
        "\n",
        "  fig, ax = plt.subplots(figsize=(3,3))\n",
        "  ax = sns.heatmap(confusion_matrix(y_test,y_preds),\n",
        "                   annot=True,\n",
        "                   cbar=False)\n",
        "  plt.xlabel('True Label')\n",
        "  plt.ylabel('Predicted Label')\n",
        "\n",
        "plot_conf_mat(y_test,y_preds)"
      ],
      "execution_count": 153,
      "outputs": [
        {
          "output_type": "display_data",
          "data": {
            "image/png": "[encoded data removed]",
            "text/plain": [
              "<Figure size 216x216 with 1 Axes>"
            ]
          },
          "metadata": {}
        }
      ]
    },
    {
      "cell_type": "code",
      "metadata": {
        "colab": {
          "base_uri": "https://localhost:8080/"
        },
        "id": "daW7arcK9kzc",
        "outputId": "479cb52a-6832-4ff8-9a83-f2e7d3870c2d"
      },
      "source": [
        "#evaluation metrics using cv\n",
        "gs_log_reg.best_params_"
      ],
      "execution_count": 155,
      "outputs": [
        {
          "output_type": "execute_result",
          "data": {
            "text/plain": [
              "{'C': 0.1082636733874054, 'solver': 'liblinear'}"
            ]
          },
          "metadata": {},
          "execution_count": 155
        }
      ]
    },
    {
      "cell_type": "code",
      "metadata": {
        "id": "vcEVZrq6AWuR"
      },
      "source": [
        "clf = LogisticRegression(C=0.1082636733874054,\n",
        "                         solver='liblinear')"
      ],
      "execution_count": 157,
      "outputs": []
    },
    {
      "cell_type": "code",
      "metadata": {
        "colab": {
          "base_uri": "https://localhost:8080/"
        },
        "id": "yc0dbUNGAnDX",
        "outputId": "b9a157b0-6795-4e7b-ac10-599052aad6fe"
      },
      "source": [
        "#cross validate accuracy\n",
        "cv_accuracy = cross_val_score(clf,x,y,cv=5,scoring='accuracy')\n",
        "cv_accuracy"
      ],
      "execution_count": 159,
      "outputs": [
        {
          "output_type": "execute_result",
          "data": {
            "text/plain": [
              "array([0.81967213, 0.90163934, 0.83606557, 0.86666667, 0.75      ])"
            ]
          },
          "metadata": {},
          "execution_count": 159
        }
      ]
    },
    {
      "cell_type": "code",
      "metadata": {
        "colab": {
          "base_uri": "https://localhost:8080/"
        },
        "id": "dKl4-j93BCQ3",
        "outputId": "fb3e9dc9-d85d-4c52-b8a1-72a91d964a99"
      },
      "source": [
        "cv_accuracy = np.mean(cv_accuracy)\n",
        "cv_accuracy"
      ],
      "execution_count": 161,
      "outputs": [
        {
          "output_type": "execute_result",
          "data": {
            "text/plain": [
              "0.834808743169399"
            ]
          },
          "metadata": {},
          "execution_count": 161
        }
      ]
    },
    {
      "cell_type": "code",
      "metadata": {
        "colab": {
          "base_uri": "https://localhost:8080/"
        },
        "id": "w6pxceIMBGrC",
        "outputId": "4f4cb480-4209-4445-e957-eda8359c2e7e"
      },
      "source": [
        "cv_precision = cross_val_score(clf,x,y,cv=5,scoring='precision')\n",
        "cv_precision\n",
        "\n",
        "cv_precision = np.mean(cv_precision)\n",
        "cv_precision"
      ],
      "execution_count": 162,
      "outputs": [
        {
          "output_type": "execute_result",
          "data": {
            "text/plain": [
              "0.8182683982683983"
            ]
          },
          "metadata": {},
          "execution_count": 162
        }
      ]
    },
    {
      "cell_type": "code",
      "metadata": {
        "colab": {
          "base_uri": "https://localhost:8080/"
        },
        "id": "1XokdPRcBX8Y",
        "outputId": "65154b04-12db-464f-f96d-1aed2e35ad92"
      },
      "source": [
        "cv_recall = cross_val_score(clf,x,y,cv=5,scoring='recall')\n",
        "cv_recall\n",
        "\n",
        "cv_recall = np.mean(cv_recall)\n",
        "cv_recall"
      ],
      "execution_count": 163,
      "outputs": [
        {
          "output_type": "execute_result",
          "data": {
            "text/plain": [
              "0.9030303030303031"
            ]
          },
          "metadata": {},
          "execution_count": 163
        }
      ]
    },
    {
      "cell_type": "code",
      "metadata": {
        "colab": {
          "base_uri": "https://localhost:8080/"
        },
        "id": "hohhWJm3BhgL",
        "outputId": "2edbc926-01e3-414f-dedf-c1114701e85a"
      },
      "source": [
        "cv_f1 = cross_val_score(clf,x,y,cv=5,scoring='f1')\n",
        "cv_f1\n",
        "\n",
        "cv_f1 = np.mean(cv_f1)\n",
        "cv_f1"
      ],
      "execution_count": 164,
      "outputs": [
        {
          "output_type": "execute_result",
          "data": {
            "text/plain": [
              "0.8572876223964057"
            ]
          },
          "metadata": {},
          "execution_count": 164
        }
      ]
    },
    {
      "cell_type": "code",
      "metadata": {
        "colab": {
          "base_uri": "https://localhost:8080/",
          "height": 368
        },
        "id": "h7yliIUxB27B",
        "outputId": "305938a1-1a43-442d-ae4b-a572b8a345e6"
      },
      "source": [
        "cv_metrics = pd.DataFrame({'Accuracy':cv_accuracy,\n",
        "                           'Precision':cv_precision,\n",
        "                           'recall':cv_recall,\n",
        "                           'f1':cv_f1},\n",
        "                          index=[0])\n",
        "\n",
        "cv_metrics.T.plot.bar(title='CV classification metrics',\n",
        "                      legend=False)"
      ],
      "execution_count": 167,
      "outputs": [
        {
          "output_type": "execute_result",
          "data": {
            "text/plain": [
              "<matplotlib.axes._subplots.AxesSubplot at 0x7fbf30c85b90>"
            ]
          },
          "metadata": {},
          "execution_count": 167
        },
        {
          "output_type": "display_data",
          "data": {
            "image/png": "[encoded data removed]",
            "text/plain": [
              "<Figure size 432x288 with 1 Axes>"
            ]
          },
          "metadata": {}
        }
      ]
    },
    {
      "cell_type": "code",
      "metadata": {
        "id": "H4YQzl_UCSK-"
      },
      "source": [
        "#feature importance"
      ],
      "execution_count": 168,
      "outputs": []
    },
    {
      "cell_type": "code",
      "metadata": {
        "colab": {
          "base_uri": "https://localhost:8080/"
        },
        "id": "CPtw-JkPDIW2",
        "outputId": "7978b133-ec87-4121-8f0b-5ad5b6abb5f9"
      },
      "source": [
        "gs_log_reg.best_params_\n",
        "clf = LogisticRegression(C=0.1082636733874054,\n",
        "                         solver='liblinear')\n",
        "clf.fit(x_train,y_train)"
      ],
      "execution_count": 171,
      "outputs": [
        {
          "output_type": "execute_result",
          "data": {
            "text/plain": [
              "LogisticRegression(C=0.1082636733874054, class_weight=None, dual=False,\n",
              "                   fit_intercept=True, intercept_scaling=1, l1_ratio=None,\n",
              "                   max_iter=100, multi_class='auto', n_jobs=None, penalty='l2',\n",
              "                   random_state=None, solver='liblinear', tol=0.0001, verbose=0,\n",
              "                   warm_start=False)"
            ]
          },
          "metadata": {},
          "execution_count": 171
        }
      ]
    },
    {
      "cell_type": "code",
      "metadata": {
        "colab": {
          "base_uri": "https://localhost:8080/"
        },
        "id": "rymrbUPkDLAb",
        "outputId": "2750d642-df57-4b50-dda6-7d0dbe6886a6"
      },
      "source": [
        "#check coef\n",
        "clf.coef_"
      ],
      "execution_count": 175,
      "outputs": [
        {
          "output_type": "execute_result",
          "data": {
            "text/plain": [
              "array([[ 0.00728048, -0.51686656,  0.66589462, -0.01487605, -0.00340645,\n",
              "         0.03104055,  0.18161848,  0.02644686, -0.42354452, -0.40308078,\n",
              "         0.31469644, -0.59328254, -0.5324176 ]])"
            ]
          },
          "metadata": {},
          "execution_count": 175
        }
      ]
    },
    {
      "cell_type": "code",
      "metadata": {
        "colab": {
          "base_uri": "https://localhost:8080/"
        },
        "id": "sLJVcT25DWFG",
        "outputId": "1f4d2e8b-c7ad-4678-f70a-9b8dfa870586"
      },
      "source": [
        "#match coef's of features to columns\n",
        "feature_dict = dict(zip(df.columns, list(clf.coef_[0])))\n",
        "feature_dict"
      ],
      "execution_count": 177,
      "outputs": [
        {
          "output_type": "execute_result",
          "data": {
            "text/plain": [
              "{'age': 0.0072804839484074445,\n",
              " 'ca': -0.5932825433893569,\n",
              " 'chol': -0.0034064521693620634,\n",
              " 'cp': 0.6658946183548233,\n",
              " 'exang': -0.4235445190331682,\n",
              " 'fbs': 0.031040546369903915,\n",
              " 'oldpeak': -0.40308077860802066,\n",
              " 'restecg': 0.18161847744860904,\n",
              " 'sex': -0.5168665639698048,\n",
              " 'slope': 0.31469643993626856,\n",
              " 'thal': -0.5324175998455075,\n",
              " 'thalach': 0.0264468639345253,\n",
              " 'trestbps': -0.014876053931488975}"
            ]
          },
          "metadata": {},
          "execution_count": 177
        }
      ]
    },
    {
      "cell_type": "code",
      "metadata": {
        "colab": {
          "base_uri": "https://localhost:8080/",
          "height": 688
        },
        "id": "lJ300GHgDpvz",
        "outputId": "a4143999-284e-401a-9195-4a6813932803"
      },
      "source": [
        "feature_dict = pd.DataFrame(feature_dict, index=[0])\n",
        "feature_dict.T.plot.bar(title='Feature Importance', legend=False, figsize=(20,10))"
      ],
      "execution_count": 186,
      "outputs": [
        {
          "output_type": "execute_result",
          "data": {
            "text/plain": [
              "<matplotlib.axes._subplots.AxesSubplot at 0x7fbf30797510>"
            ]
          },
          "metadata": {},
          "execution_count": 186
        },
        {
          "output_type": "display_data",
          "data": {
            "image/png": "[encoded data removed]",
            "text/plain": [
              "<Figure size 1440x720 with 1 Axes>"
            ]
          },
          "metadata": {}
        }
      ]
    },
    {
      "cell_type": "code",
      "metadata": {
        "id": "BRsVzkEcEEYX"
      },
      "source": [
        "#catboost model"
      ],
      "execution_count": 188,
      "outputs": []
    },
    {
      "cell_type": "code",
      "metadata": {
        "id": "oxLMjzqUHne5"
      },
      "source": [
        "from catboost import CatBoostClassifier"
      ],
      "execution_count": 189,
      "outputs": []
    },
    {
      "cell_type": "code",
      "metadata": {
        "id": "cLXXoat7Ht2x"
      },
      "source": [
        "model = CatBoostClassifier(learning_rate=1,depth=6)"
      ],
      "execution_count": 192,
      "outputs": []
    },
    {
      "cell_type": "code",
      "metadata": {
        "colab": {
          "base_uri": "https://localhost:8080/"
        },
        "id": "QsgVtbwMIGiJ",
        "outputId": "aa4b4670-31a7-4d0b-c3af-3f6fb5d8c751"
      },
      "source": [
        "model.fit(x_train,y_train)"
      ],
      "execution_count": 193,
      "outputs": [
        {
          "output_type": "stream",
          "name": "stdout",
          "text": [
            "0:\tlearn: 0.3311006\ttotal: 47.6ms\tremaining: 47.6s\n",
            "1:\tlearn: 0.2633163\ttotal: 48.4ms\tremaining: 24.1s\n",
            "2:\tlearn: 0.2121953\ttotal: 49.2ms\tremaining: 16.3s\n",
            "3:\tlearn: 0.1931068\ttotal: 49.9ms\tremaining: 12.4s\n",
            "4:\tlearn: 0.1665508\ttotal: 50.9ms\tremaining: 10.1s\n",
            "5:\tlearn: 0.1453318\ttotal: 51.9ms\tremaining: 8.6s\n",
            "6:\tlearn: 0.1123029\ttotal: 52.9ms\tremaining: 7.5s\n",
            "7:\tlearn: 0.0956790\ttotal: 53.8ms\tremaining: 6.68s\n",
            "8:\tlearn: 0.0652079\ttotal: 54.8ms\tremaining: 6.04s\n",
            "9:\tlearn: 0.0566224\ttotal: 55.6ms\tremaining: 5.5s\n",
            "10:\tlearn: 0.0506406\ttotal: 56.6ms\tremaining: 5.09s\n",
            "11:\tlearn: 0.0418659\ttotal: 57.6ms\tremaining: 4.74s\n",
            "12:\tlearn: 0.0351172\ttotal: 58.6ms\tremaining: 4.45s\n",
            "13:\tlearn: 0.0301653\ttotal: 59.8ms\tremaining: 4.21s\n",
            "14:\tlearn: 0.0264437\ttotal: 60.8ms\tremaining: 3.99s\n",
            "15:\tlearn: 0.0235332\ttotal: 61.8ms\tremaining: 3.8s\n",
            "16:\tlearn: 0.0203395\ttotal: 62.8ms\tremaining: 3.63s\n",
            "17:\tlearn: 0.0180570\ttotal: 63.9ms\tremaining: 3.49s\n",
            "18:\tlearn: 0.0164025\ttotal: 64.9ms\tremaining: 3.35s\n",
            "19:\tlearn: 0.0147478\ttotal: 65.9ms\tremaining: 3.23s\n",
            "20:\tlearn: 0.0141187\ttotal: 67ms\tremaining: 3.12s\n",
            "21:\tlearn: 0.0125952\ttotal: 68ms\tremaining: 3.02s\n",
            "22:\tlearn: 0.0117802\ttotal: 68.9ms\tremaining: 2.93s\n",
            "23:\tlearn: 0.0116336\ttotal: 69.9ms\tremaining: 2.84s\n",
            "24:\tlearn: 0.0111109\ttotal: 70.9ms\tremaining: 2.76s\n",
            "25:\tlearn: 0.0109837\ttotal: 71.9ms\tremaining: 2.69s\n",
            "26:\tlearn: 0.0104583\ttotal: 72.8ms\tremaining: 2.62s\n",
            "27:\tlearn: 0.0101057\ttotal: 73.8ms\tremaining: 2.56s\n",
            "28:\tlearn: 0.0095045\ttotal: 74.9ms\tremaining: 2.51s\n",
            "29:\tlearn: 0.0089658\ttotal: 75.9ms\tremaining: 2.45s\n",
            "30:\tlearn: 0.0086710\ttotal: 76.9ms\tremaining: 2.4s\n",
            "31:\tlearn: 0.0081218\ttotal: 77.9ms\tremaining: 2.36s\n",
            "32:\tlearn: 0.0080028\ttotal: 79ms\tremaining: 2.31s\n",
            "33:\tlearn: 0.0073285\ttotal: 80ms\tremaining: 2.27s\n",
            "34:\tlearn: 0.0070734\ttotal: 80.9ms\tremaining: 2.23s\n",
            "35:\tlearn: 0.0068027\ttotal: 81.9ms\tremaining: 2.19s\n",
            "36:\tlearn: 0.0065170\ttotal: 83ms\tremaining: 2.16s\n",
            "37:\tlearn: 0.0062993\ttotal: 84ms\tremaining: 2.13s\n",
            "38:\tlearn: 0.0059925\ttotal: 84.9ms\tremaining: 2.09s\n",
            "39:\tlearn: 0.0058552\ttotal: 86ms\tremaining: 2.06s\n",
            "40:\tlearn: 0.0058367\ttotal: 87ms\tremaining: 2.03s\n",
            "41:\tlearn: 0.0057040\ttotal: 88ms\tremaining: 2.01s\n",
            "42:\tlearn: 0.0055042\ttotal: 89ms\tremaining: 1.98s\n",
            "43:\tlearn: 0.0055034\ttotal: 90ms\tremaining: 1.96s\n",
            "44:\tlearn: 0.0051421\ttotal: 91ms\tremaining: 1.93s\n",
            "45:\tlearn: 0.0049250\ttotal: 92ms\tremaining: 1.91s\n",
            "46:\tlearn: 0.0049250\ttotal: 93ms\tremaining: 1.89s\n",
            "47:\tlearn: 0.0046960\ttotal: 94.1ms\tremaining: 1.86s\n",
            "48:\tlearn: 0.0045386\ttotal: 95.1ms\tremaining: 1.84s\n",
            "49:\tlearn: 0.0044159\ttotal: 96.1ms\tremaining: 1.83s\n",
            "50:\tlearn: 0.0043004\ttotal: 97.1ms\tremaining: 1.81s\n",
            "51:\tlearn: 0.0042689\ttotal: 98.2ms\tremaining: 1.79s\n",
            "52:\tlearn: 0.0041438\ttotal: 99.2ms\tremaining: 1.77s\n",
            "53:\tlearn: 0.0040318\ttotal: 100ms\tremaining: 1.75s\n",
            "54:\tlearn: 0.0039756\ttotal: 101ms\tremaining: 1.74s\n",
            "55:\tlearn: 0.0038545\ttotal: 102ms\tremaining: 1.72s\n",
            "56:\tlearn: 0.0037208\ttotal: 103ms\tremaining: 1.71s\n",
            "57:\tlearn: 0.0036514\ttotal: 104ms\tremaining: 1.69s\n",
            "58:\tlearn: 0.0035081\ttotal: 105ms\tremaining: 1.68s\n",
            "59:\tlearn: 0.0035080\ttotal: 106ms\tremaining: 1.66s\n",
            "60:\tlearn: 0.0033632\ttotal: 107ms\tremaining: 1.65s\n",
            "61:\tlearn: 0.0032870\ttotal: 108ms\tremaining: 1.64s\n",
            "62:\tlearn: 0.0031999\ttotal: 109ms\tremaining: 1.62s\n",
            "63:\tlearn: 0.0031605\ttotal: 110ms\tremaining: 1.61s\n",
            "64:\tlearn: 0.0031065\ttotal: 111ms\tremaining: 1.6s\n",
            "65:\tlearn: 0.0031064\ttotal: 112ms\tremaining: 1.59s\n",
            "66:\tlearn: 0.0030227\ttotal: 113ms\tremaining: 1.57s\n",
            "67:\tlearn: 0.0030220\ttotal: 114ms\tremaining: 1.56s\n",
            "68:\tlearn: 0.0029295\ttotal: 115ms\tremaining: 1.55s\n",
            "69:\tlearn: 0.0028914\ttotal: 116ms\tremaining: 1.54s\n",
            "70:\tlearn: 0.0028154\ttotal: 117ms\tremaining: 1.53s\n",
            "71:\tlearn: 0.0028152\ttotal: 118ms\tremaining: 1.52s\n",
            "72:\tlearn: 0.0028151\ttotal: 119ms\tremaining: 1.51s\n",
            "73:\tlearn: 0.0026978\ttotal: 120ms\tremaining: 1.5s\n",
            "74:\tlearn: 0.0026979\ttotal: 121ms\tremaining: 1.49s\n",
            "75:\tlearn: 0.0026279\ttotal: 122ms\tremaining: 1.48s\n",
            "76:\tlearn: 0.0026268\ttotal: 123ms\tremaining: 1.47s\n",
            "77:\tlearn: 0.0025920\ttotal: 124ms\tremaining: 1.46s\n",
            "78:\tlearn: 0.0025265\ttotal: 125ms\tremaining: 1.46s\n",
            "79:\tlearn: 0.0025032\ttotal: 126ms\tremaining: 1.45s\n",
            "80:\tlearn: 0.0025032\ttotal: 127ms\tremaining: 1.44s\n",
            "81:\tlearn: 0.0024700\ttotal: 128ms\tremaining: 1.43s\n",
            "82:\tlearn: 0.0024698\ttotal: 129ms\tremaining: 1.42s\n",
            "83:\tlearn: 0.0024479\ttotal: 130ms\tremaining: 1.41s\n",
            "84:\tlearn: 0.0023976\ttotal: 131ms\tremaining: 1.41s\n",
            "85:\tlearn: 0.0023973\ttotal: 132ms\tremaining: 1.4s\n",
            "86:\tlearn: 0.0023969\ttotal: 133ms\tremaining: 1.39s\n",
            "87:\tlearn: 0.0023965\ttotal: 134ms\tremaining: 1.38s\n",
            "88:\tlearn: 0.0023962\ttotal: 135ms\tremaining: 1.38s\n",
            "89:\tlearn: 0.0023961\ttotal: 135ms\tremaining: 1.37s\n",
            "90:\tlearn: 0.0023960\ttotal: 136ms\tremaining: 1.36s\n",
            "91:\tlearn: 0.0023959\ttotal: 137ms\tremaining: 1.36s\n",
            "92:\tlearn: 0.0023958\ttotal: 138ms\tremaining: 1.35s\n",
            "93:\tlearn: 0.0023957\ttotal: 139ms\tremaining: 1.34s\n",
            "94:\tlearn: 0.0023608\ttotal: 140ms\tremaining: 1.34s\n",
            "95:\tlearn: 0.0023239\ttotal: 141ms\tremaining: 1.33s\n",
            "96:\tlearn: 0.0022696\ttotal: 142ms\tremaining: 1.32s\n",
            "97:\tlearn: 0.0022690\ttotal: 143ms\tremaining: 1.32s\n",
            "98:\tlearn: 0.0022688\ttotal: 144ms\tremaining: 1.31s\n",
            "99:\tlearn: 0.0022688\ttotal: 145ms\tremaining: 1.31s\n",
            "100:\tlearn: 0.0022406\ttotal: 146ms\tremaining: 1.3s\n",
            "101:\tlearn: 0.0021936\ttotal: 147ms\tremaining: 1.3s\n",
            "102:\tlearn: 0.0021756\ttotal: 148ms\tremaining: 1.29s\n",
            "103:\tlearn: 0.0021748\ttotal: 149ms\tremaining: 1.28s\n",
            "104:\tlearn: 0.0021361\ttotal: 150ms\tremaining: 1.28s\n",
            "105:\tlearn: 0.0021015\ttotal: 151ms\tremaining: 1.27s\n",
            "106:\tlearn: 0.0020698\ttotal: 152ms\tremaining: 1.27s\n",
            "107:\tlearn: 0.0020340\ttotal: 153ms\tremaining: 1.26s\n",
            "108:\tlearn: 0.0019844\ttotal: 154ms\tremaining: 1.26s\n",
            "109:\tlearn: 0.0019613\ttotal: 155ms\tremaining: 1.25s\n",
            "110:\tlearn: 0.0019201\ttotal: 156ms\tremaining: 1.25s\n",
            "111:\tlearn: 0.0019200\ttotal: 157ms\tremaining: 1.24s\n",
            "112:\tlearn: 0.0019200\ttotal: 158ms\tremaining: 1.24s\n",
            "113:\tlearn: 0.0019194\ttotal: 159ms\tremaining: 1.23s\n",
            "114:\tlearn: 0.0019194\ttotal: 160ms\tremaining: 1.23s\n",
            "115:\tlearn: 0.0019196\ttotal: 161ms\tremaining: 1.23s\n",
            "116:\tlearn: 0.0019195\ttotal: 162ms\tremaining: 1.22s\n",
            "117:\tlearn: 0.0019193\ttotal: 163ms\tremaining: 1.22s\n",
            "118:\tlearn: 0.0019193\ttotal: 164ms\tremaining: 1.21s\n",
            "119:\tlearn: 0.0019194\ttotal: 165ms\tremaining: 1.21s\n",
            "120:\tlearn: 0.0019193\ttotal: 166ms\tremaining: 1.2s\n",
            "121:\tlearn: 0.0019193\ttotal: 166ms\tremaining: 1.2s\n",
            "122:\tlearn: 0.0019190\ttotal: 167ms\tremaining: 1.19s\n",
            "123:\tlearn: 0.0019191\ttotal: 168ms\tremaining: 1.19s\n",
            "124:\tlearn: 0.0019190\ttotal: 169ms\tremaining: 1.19s\n",
            "125:\tlearn: 0.0019188\ttotal: 170ms\tremaining: 1.18s\n",
            "126:\tlearn: 0.0019188\ttotal: 171ms\tremaining: 1.18s\n",
            "127:\tlearn: 0.0019187\ttotal: 172ms\tremaining: 1.17s\n",
            "128:\tlearn: 0.0019189\ttotal: 173ms\tremaining: 1.17s\n",
            "129:\tlearn: 0.0019187\ttotal: 174ms\tremaining: 1.17s\n",
            "130:\tlearn: 0.0019186\ttotal: 175ms\tremaining: 1.16s\n",
            "131:\tlearn: 0.0019185\ttotal: 176ms\tremaining: 1.16s\n",
            "132:\tlearn: 0.0019184\ttotal: 177ms\tremaining: 1.15s\n",
            "133:\tlearn: 0.0019182\ttotal: 178ms\tremaining: 1.15s\n",
            "134:\tlearn: 0.0019183\ttotal: 179ms\tremaining: 1.15s\n",
            "135:\tlearn: 0.0019182\ttotal: 180ms\tremaining: 1.14s\n",
            "136:\tlearn: 0.0019181\ttotal: 181ms\tremaining: 1.14s\n",
            "137:\tlearn: 0.0019181\ttotal: 182ms\tremaining: 1.13s\n",
            "138:\tlearn: 0.0019180\ttotal: 183ms\tremaining: 1.13s\n",
            "139:\tlearn: 0.0019180\ttotal: 184ms\tremaining: 1.13s\n",
            "140:\tlearn: 0.0019180\ttotal: 184ms\tremaining: 1.12s\n",
            "141:\tlearn: 0.0019179\ttotal: 185ms\tremaining: 1.12s\n",
            "142:\tlearn: 0.0019177\ttotal: 186ms\tremaining: 1.12s\n",
            "143:\tlearn: 0.0019177\ttotal: 187ms\tremaining: 1.11s\n",
            "144:\tlearn: 0.0019176\ttotal: 188ms\tremaining: 1.11s\n",
            "145:\tlearn: 0.0019175\ttotal: 189ms\tremaining: 1.11s\n",
            "146:\tlearn: 0.0019173\ttotal: 190ms\tremaining: 1.1s\n",
            "147:\tlearn: 0.0019171\ttotal: 193ms\tremaining: 1.11s\n",
            "148:\tlearn: 0.0019170\ttotal: 194ms\tremaining: 1.11s\n",
            "149:\tlearn: 0.0019166\ttotal: 195ms\tremaining: 1.11s\n",
            "150:\tlearn: 0.0019167\ttotal: 196ms\tremaining: 1.1s\n",
            "151:\tlearn: 0.0019166\ttotal: 197ms\tremaining: 1.1s\n",
            "152:\tlearn: 0.0019165\ttotal: 198ms\tremaining: 1.1s\n",
            "153:\tlearn: 0.0019164\ttotal: 199ms\tremaining: 1.09s\n",
            "154:\tlearn: 0.0019164\ttotal: 200ms\tremaining: 1.09s\n",
            "155:\tlearn: 0.0019163\ttotal: 201ms\tremaining: 1.09s\n",
            "156:\tlearn: 0.0019163\ttotal: 202ms\tremaining: 1.08s\n",
            "157:\tlearn: 0.0019162\ttotal: 203ms\tremaining: 1.08s\n",
            "158:\tlearn: 0.0019162\ttotal: 204ms\tremaining: 1.08s\n",
            "159:\tlearn: 0.0019162\ttotal: 205ms\tremaining: 1.08s\n",
            "160:\tlearn: 0.0019161\ttotal: 206ms\tremaining: 1.07s\n",
            "161:\tlearn: 0.0019158\ttotal: 207ms\tremaining: 1.07s\n",
            "162:\tlearn: 0.0019159\ttotal: 208ms\tremaining: 1.07s\n",
            "163:\tlearn: 0.0019159\ttotal: 209ms\tremaining: 1.06s\n",
            "164:\tlearn: 0.0019156\ttotal: 210ms\tremaining: 1.06s\n",
            "165:\tlearn: 0.0019157\ttotal: 211ms\tremaining: 1.06s\n",
            "166:\tlearn: 0.0019154\ttotal: 212ms\tremaining: 1.05s\n",
            "167:\tlearn: 0.0019154\ttotal: 213ms\tremaining: 1.05s\n",
            "168:\tlearn: 0.0019153\ttotal: 213ms\tremaining: 1.05s\n",
            "169:\tlearn: 0.0019155\ttotal: 214ms\tremaining: 1.05s\n",
            "170:\tlearn: 0.0019154\ttotal: 215ms\tremaining: 1.04s\n",
            "171:\tlearn: 0.0019153\ttotal: 216ms\tremaining: 1.04s\n",
            "172:\tlearn: 0.0019151\ttotal: 217ms\tremaining: 1.04s\n",
            "173:\tlearn: 0.0019152\ttotal: 218ms\tremaining: 1.03s\n",
            "174:\tlearn: 0.0019150\ttotal: 219ms\tremaining: 1.03s\n",
            "175:\tlearn: 0.0019149\ttotal: 220ms\tremaining: 1.03s\n",
            "176:\tlearn: 0.0019148\ttotal: 221ms\tremaining: 1.03s\n",
            "177:\tlearn: 0.0019148\ttotal: 222ms\tremaining: 1.02s\n",
            "178:\tlearn: 0.0019150\ttotal: 224ms\tremaining: 1.03s\n",
            "179:\tlearn: 0.0019145\ttotal: 225ms\tremaining: 1.03s\n",
            "180:\tlearn: 0.0019145\ttotal: 227ms\tremaining: 1.02s\n",
            "181:\tlearn: 0.0019146\ttotal: 228ms\tremaining: 1.02s\n",
            "182:\tlearn: 0.0019145\ttotal: 232ms\tremaining: 1.04s\n",
            "183:\tlearn: 0.0019142\ttotal: 234ms\tremaining: 1.03s\n",
            "184:\tlearn: 0.0019142\ttotal: 235ms\tremaining: 1.03s\n",
            "185:\tlearn: 0.0019142\ttotal: 235ms\tremaining: 1.03s\n",
            "186:\tlearn: 0.0019141\ttotal: 236ms\tremaining: 1.03s\n",
            "187:\tlearn: 0.0019139\ttotal: 237ms\tremaining: 1.02s\n",
            "188:\tlearn: 0.0019137\ttotal: 238ms\tremaining: 1.02s\n",
            "189:\tlearn: 0.0019137\ttotal: 239ms\tremaining: 1.02s\n",
            "190:\tlearn: 0.0019136\ttotal: 240ms\tremaining: 1.02s\n",
            "191:\tlearn: 0.0019135\ttotal: 241ms\tremaining: 1.01s\n",
            "192:\tlearn: 0.0019132\ttotal: 242ms\tremaining: 1.01s\n",
            "193:\tlearn: 0.0019132\ttotal: 243ms\tremaining: 1.01s\n",
            "194:\tlearn: 0.0019132\ttotal: 244ms\tremaining: 1.01s\n",
            "195:\tlearn: 0.0019131\ttotal: 245ms\tremaining: 1s\n",
            "196:\tlearn: 0.0019131\ttotal: 246ms\tremaining: 1s\n",
            "197:\tlearn: 0.0019127\ttotal: 247ms\tremaining: 999ms\n",
            "198:\tlearn: 0.0019127\ttotal: 248ms\tremaining: 997ms\n",
            "199:\tlearn: 0.0019125\ttotal: 249ms\tremaining: 994ms\n",
            "200:\tlearn: 0.0019124\ttotal: 250ms\tremaining: 992ms\n",
            "201:\tlearn: 0.0019124\ttotal: 250ms\tremaining: 989ms\n",
            "202:\tlearn: 0.0019123\ttotal: 251ms\tremaining: 987ms\n",
            "203:\tlearn: 0.0019121\ttotal: 252ms\tremaining: 985ms\n",
            "204:\tlearn: 0.0019122\ttotal: 253ms\tremaining: 982ms\n",
            "205:\tlearn: 0.0019119\ttotal: 254ms\tremaining: 980ms\n",
            "206:\tlearn: 0.0019117\ttotal: 255ms\tremaining: 978ms\n",
            "207:\tlearn: 0.0019116\ttotal: 256ms\tremaining: 976ms\n",
            "208:\tlearn: 0.0019115\ttotal: 257ms\tremaining: 973ms\n",
            "209:\tlearn: 0.0019116\ttotal: 258ms\tremaining: 971ms\n",
            "210:\tlearn: 0.0019114\ttotal: 259ms\tremaining: 969ms\n",
            "211:\tlearn: 0.0019115\ttotal: 260ms\tremaining: 967ms\n",
            "212:\tlearn: 0.0019115\ttotal: 261ms\tremaining: 964ms\n",
            "213:\tlearn: 0.0019115\ttotal: 262ms\tremaining: 962ms\n",
            "214:\tlearn: 0.0019116\ttotal: 263ms\tremaining: 960ms\n",
            "215:\tlearn: 0.0019115\ttotal: 264ms\tremaining: 957ms\n",
            "216:\tlearn: 0.0019113\ttotal: 265ms\tremaining: 955ms\n",
            "217:\tlearn: 0.0019113\ttotal: 266ms\tremaining: 953ms\n",
            "218:\tlearn: 0.0019113\ttotal: 267ms\tremaining: 951ms\n",
            "219:\tlearn: 0.0019111\ttotal: 268ms\tremaining: 949ms\n",
            "220:\tlearn: 0.0019108\ttotal: 269ms\tremaining: 947ms\n",
            "221:\tlearn: 0.0019108\ttotal: 270ms\tremaining: 945ms\n",
            "222:\tlearn: 0.0019107\ttotal: 271ms\tremaining: 943ms\n",
            "223:\tlearn: 0.0019106\ttotal: 272ms\tremaining: 941ms\n",
            "224:\tlearn: 0.0019103\ttotal: 272ms\tremaining: 939ms\n",
            "225:\tlearn: 0.0019101\ttotal: 273ms\tremaining: 936ms\n",
            "226:\tlearn: 0.0018852\ttotal: 274ms\tremaining: 935ms\n",
            "227:\tlearn: 0.0018632\ttotal: 275ms\tremaining: 933ms\n",
            "228:\tlearn: 0.0018361\ttotal: 277ms\tremaining: 931ms\n",
            "229:\tlearn: 0.0018336\ttotal: 279ms\tremaining: 935ms\n",
            "230:\tlearn: 0.0018335\ttotal: 280ms\tremaining: 933ms\n",
            "231:\tlearn: 0.0018333\ttotal: 281ms\tremaining: 931ms\n",
            "232:\tlearn: 0.0018333\ttotal: 284ms\tremaining: 935ms\n",
            "233:\tlearn: 0.0018331\ttotal: 285ms\tremaining: 933ms\n",
            "234:\tlearn: 0.0018152\ttotal: 286ms\tremaining: 931ms\n",
            "235:\tlearn: 0.0018146\ttotal: 287ms\tremaining: 929ms\n",
            "236:\tlearn: 0.0018144\ttotal: 288ms\tremaining: 927ms\n",
            "237:\tlearn: 0.0018142\ttotal: 289ms\tremaining: 925ms\n",
            "238:\tlearn: 0.0018141\ttotal: 290ms\tremaining: 923ms\n",
            "239:\tlearn: 0.0018126\ttotal: 291ms\tremaining: 921ms\n",
            "240:\tlearn: 0.0017795\ttotal: 292ms\tremaining: 919ms\n",
            "241:\tlearn: 0.0017794\ttotal: 293ms\tremaining: 917ms\n",
            "242:\tlearn: 0.0017790\ttotal: 294ms\tremaining: 915ms\n",
            "243:\tlearn: 0.0017790\ttotal: 295ms\tremaining: 913ms\n",
            "244:\tlearn: 0.0017790\ttotal: 296ms\tremaining: 911ms\n",
            "245:\tlearn: 0.0017790\ttotal: 297ms\tremaining: 909ms\n",
            "246:\tlearn: 0.0017772\ttotal: 298ms\tremaining: 907ms\n",
            "247:\tlearn: 0.0017771\ttotal: 299ms\tremaining: 905ms\n",
            "248:\tlearn: 0.0017771\ttotal: 299ms\tremaining: 903ms\n",
            "249:\tlearn: 0.0017770\ttotal: 300ms\tremaining: 901ms\n",
            "250:\tlearn: 0.0017761\ttotal: 301ms\tremaining: 899ms\n",
            "251:\tlearn: 0.0017759\ttotal: 302ms\tremaining: 897ms\n",
            "252:\tlearn: 0.0017616\ttotal: 303ms\tremaining: 896ms\n",
            "253:\tlearn: 0.0017616\ttotal: 304ms\tremaining: 894ms\n",
            "254:\tlearn: 0.0017611\ttotal: 305ms\tremaining: 892ms\n",
            "255:\tlearn: 0.0017609\ttotal: 306ms\tremaining: 890ms\n",
            "256:\tlearn: 0.0017392\ttotal: 307ms\tremaining: 888ms\n",
            "257:\tlearn: 0.0017259\ttotal: 308ms\tremaining: 886ms\n",
            "258:\tlearn: 0.0017257\ttotal: 309ms\tremaining: 884ms\n",
            "259:\tlearn: 0.0017256\ttotal: 310ms\tremaining: 883ms\n",
            "260:\tlearn: 0.0017256\ttotal: 311ms\tremaining: 881ms\n",
            "261:\tlearn: 0.0017250\ttotal: 312ms\tremaining: 879ms\n",
            "262:\tlearn: 0.0017251\ttotal: 313ms\tremaining: 877ms\n",
            "263:\tlearn: 0.0017249\ttotal: 314ms\tremaining: 875ms\n",
            "264:\tlearn: 0.0017248\ttotal: 315ms\tremaining: 873ms\n",
            "265:\tlearn: 0.0017249\ttotal: 316ms\tremaining: 871ms\n",
            "266:\tlearn: 0.0017102\ttotal: 317ms\tremaining: 870ms\n",
            "267:\tlearn: 0.0016883\ttotal: 318ms\tremaining: 868ms\n",
            "268:\tlearn: 0.0016883\ttotal: 319ms\tremaining: 866ms\n",
            "269:\tlearn: 0.0016883\ttotal: 320ms\tremaining: 864ms\n",
            "270:\tlearn: 0.0016881\ttotal: 321ms\tremaining: 862ms\n",
            "271:\tlearn: 0.0016881\ttotal: 322ms\tremaining: 861ms\n",
            "272:\tlearn: 0.0016708\ttotal: 323ms\tremaining: 859ms\n",
            "273:\tlearn: 0.0016561\ttotal: 324ms\tremaining: 858ms\n",
            "274:\tlearn: 0.0016553\ttotal: 325ms\tremaining: 856ms\n",
            "275:\tlearn: 0.0016552\ttotal: 326ms\tremaining: 854ms\n",
            "276:\tlearn: 0.0016552\ttotal: 327ms\tremaining: 852ms\n",
            "277:\tlearn: 0.0016551\ttotal: 327ms\tremaining: 850ms\n",
            "278:\tlearn: 0.0016549\ttotal: 328ms\tremaining: 849ms\n",
            "279:\tlearn: 0.0016548\ttotal: 329ms\tremaining: 847ms\n",
            "280:\tlearn: 0.0016547\ttotal: 330ms\tremaining: 845ms\n",
            "281:\tlearn: 0.0016543\ttotal: 331ms\tremaining: 844ms\n",
            "282:\tlearn: 0.0016543\ttotal: 332ms\tremaining: 842ms\n",
            "283:\tlearn: 0.0016543\ttotal: 333ms\tremaining: 840ms\n",
            "284:\tlearn: 0.0016542\ttotal: 334ms\tremaining: 838ms\n",
            "285:\tlearn: 0.0016542\ttotal: 335ms\tremaining: 837ms\n",
            "286:\tlearn: 0.0016542\ttotal: 336ms\tremaining: 835ms\n",
            "287:\tlearn: 0.0016540\ttotal: 337ms\tremaining: 833ms\n",
            "288:\tlearn: 0.0016539\ttotal: 338ms\tremaining: 832ms\n",
            "289:\tlearn: 0.0016540\ttotal: 339ms\tremaining: 831ms\n",
            "290:\tlearn: 0.0016540\ttotal: 340ms\tremaining: 829ms\n",
            "291:\tlearn: 0.0016540\ttotal: 341ms\tremaining: 827ms\n",
            "292:\tlearn: 0.0016539\ttotal: 342ms\tremaining: 825ms\n",
            "293:\tlearn: 0.0016539\ttotal: 343ms\tremaining: 824ms\n",
            "294:\tlearn: 0.0016537\ttotal: 344ms\tremaining: 822ms\n",
            "295:\tlearn: 0.0016538\ttotal: 345ms\tremaining: 820ms\n",
            "296:\tlearn: 0.0016537\ttotal: 346ms\tremaining: 818ms\n",
            "297:\tlearn: 0.0016535\ttotal: 347ms\tremaining: 817ms\n",
            "298:\tlearn: 0.0016535\ttotal: 348ms\tremaining: 815ms\n",
            "299:\tlearn: 0.0016532\ttotal: 349ms\tremaining: 813ms\n",
            "300:\tlearn: 0.0016532\ttotal: 350ms\tremaining: 812ms\n",
            "301:\tlearn: 0.0016532\ttotal: 353ms\tremaining: 816ms\n",
            "302:\tlearn: 0.0016533\ttotal: 356ms\tremaining: 819ms\n",
            "303:\tlearn: 0.0016533\ttotal: 357ms\tremaining: 818ms\n",
            "304:\tlearn: 0.0016531\ttotal: 358ms\tremaining: 816ms\n",
            "305:\tlearn: 0.0016531\ttotal: 359ms\tremaining: 815ms\n",
            "306:\tlearn: 0.0016529\ttotal: 360ms\tremaining: 813ms\n",
            "307:\tlearn: 0.0016528\ttotal: 361ms\tremaining: 811ms\n",
            "308:\tlearn: 0.0016529\ttotal: 362ms\tremaining: 810ms\n",
            "309:\tlearn: 0.0016417\ttotal: 363ms\tremaining: 808ms\n",
            "310:\tlearn: 0.0016415\ttotal: 364ms\tremaining: 806ms\n",
            "311:\tlearn: 0.0016416\ttotal: 365ms\tremaining: 805ms\n",
            "312:\tlearn: 0.0016415\ttotal: 366ms\tremaining: 803ms\n",
            "313:\tlearn: 0.0016414\ttotal: 367ms\tremaining: 802ms\n",
            "314:\tlearn: 0.0016413\ttotal: 368ms\tremaining: 800ms\n",
            "315:\tlearn: 0.0016412\ttotal: 369ms\tremaining: 798ms\n",
            "316:\tlearn: 0.0016412\ttotal: 370ms\tremaining: 797ms\n",
            "317:\tlearn: 0.0016412\ttotal: 371ms\tremaining: 795ms\n",
            "318:\tlearn: 0.0016410\ttotal: 372ms\tremaining: 793ms\n",
            "319:\tlearn: 0.0016409\ttotal: 373ms\tremaining: 792ms\n",
            "320:\tlearn: 0.0016409\ttotal: 374ms\tremaining: 790ms\n",
            "321:\tlearn: 0.0016405\ttotal: 374ms\tremaining: 789ms\n",
            "322:\tlearn: 0.0016404\ttotal: 375ms\tremaining: 787ms\n",
            "323:\tlearn: 0.0016403\ttotal: 376ms\tremaining: 785ms\n",
            "324:\tlearn: 0.0016402\ttotal: 377ms\tremaining: 784ms\n",
            "325:\tlearn: 0.0016402\ttotal: 378ms\tremaining: 782ms\n",
            "326:\tlearn: 0.0016400\ttotal: 379ms\tremaining: 781ms\n",
            "327:\tlearn: 0.0016400\ttotal: 380ms\tremaining: 779ms\n",
            "328:\tlearn: 0.0016400\ttotal: 381ms\tremaining: 778ms\n",
            "329:\tlearn: 0.0016400\ttotal: 382ms\tremaining: 776ms\n",
            "330:\tlearn: 0.0016400\ttotal: 383ms\tremaining: 774ms\n",
            "331:\tlearn: 0.0016399\ttotal: 384ms\tremaining: 773ms\n",
            "332:\tlearn: 0.0016399\ttotal: 385ms\tremaining: 771ms\n",
            "333:\tlearn: 0.0016398\ttotal: 386ms\tremaining: 770ms\n",
            "334:\tlearn: 0.0016397\ttotal: 387ms\tremaining: 768ms\n",
            "335:\tlearn: 0.0016395\ttotal: 388ms\tremaining: 766ms\n",
            "336:\tlearn: 0.0016396\ttotal: 389ms\tremaining: 765ms\n",
            "337:\tlearn: 0.0016393\ttotal: 390ms\tremaining: 763ms\n",
            "338:\tlearn: 0.0016394\ttotal: 391ms\tremaining: 762ms\n",
            "339:\tlearn: 0.0016393\ttotal: 392ms\tremaining: 760ms\n",
            "340:\tlearn: 0.0016392\ttotal: 393ms\tremaining: 759ms\n",
            "341:\tlearn: 0.0016392\ttotal: 394ms\tremaining: 757ms\n",
            "342:\tlearn: 0.0016390\ttotal: 394ms\tremaining: 756ms\n",
            "343:\tlearn: 0.0016279\ttotal: 395ms\tremaining: 754ms\n",
            "344:\tlearn: 0.0016279\ttotal: 396ms\tremaining: 753ms\n",
            "345:\tlearn: 0.0016206\ttotal: 397ms\tremaining: 751ms\n",
            "346:\tlearn: 0.0016063\ttotal: 398ms\tremaining: 750ms\n",
            "347:\tlearn: 0.0016061\ttotal: 399ms\tremaining: 748ms\n",
            "348:\tlearn: 0.0016062\ttotal: 400ms\tremaining: 747ms\n",
            "349:\tlearn: 0.0016060\ttotal: 401ms\tremaining: 745ms\n",
            "350:\tlearn: 0.0016060\ttotal: 402ms\tremaining: 744ms\n",
            "351:\tlearn: 0.0016054\ttotal: 403ms\tremaining: 743ms\n",
            "352:\tlearn: 0.0016054\ttotal: 404ms\tremaining: 741ms\n",
            "353:\tlearn: 0.0016054\ttotal: 407ms\tremaining: 742ms\n",
            "354:\tlearn: 0.0016054\ttotal: 408ms\tremaining: 741ms\n",
            "355:\tlearn: 0.0016052\ttotal: 409ms\tremaining: 740ms\n",
            "356:\tlearn: 0.0016052\ttotal: 410ms\tremaining: 739ms\n",
            "357:\tlearn: 0.0015821\ttotal: 411ms\tremaining: 737ms\n",
            "358:\tlearn: 0.0015809\ttotal: 414ms\tremaining: 739ms\n",
            "359:\tlearn: 0.0015618\ttotal: 415ms\tremaining: 738ms\n",
            "360:\tlearn: 0.0015468\ttotal: 416ms\tremaining: 736ms\n",
            "361:\tlearn: 0.0015318\ttotal: 417ms\tremaining: 735ms\n",
            "362:\tlearn: 0.0015317\ttotal: 418ms\tremaining: 733ms\n",
            "363:\tlearn: 0.0015249\ttotal: 419ms\tremaining: 732ms\n",
            "364:\tlearn: 0.0015245\ttotal: 420ms\tremaining: 730ms\n",
            "365:\tlearn: 0.0015242\ttotal: 421ms\tremaining: 729ms\n",
            "366:\tlearn: 0.0015241\ttotal: 422ms\tremaining: 728ms\n",
            "367:\tlearn: 0.0015240\ttotal: 423ms\tremaining: 726ms\n",
            "368:\tlearn: 0.0015239\ttotal: 424ms\tremaining: 725ms\n",
            "369:\tlearn: 0.0015240\ttotal: 425ms\tremaining: 723ms\n",
            "370:\tlearn: 0.0015237\ttotal: 426ms\tremaining: 722ms\n",
            "371:\tlearn: 0.0015235\ttotal: 427ms\tremaining: 720ms\n",
            "372:\tlearn: 0.0015233\ttotal: 428ms\tremaining: 719ms\n",
            "373:\tlearn: 0.0015230\ttotal: 428ms\tremaining: 717ms\n",
            "374:\tlearn: 0.0015230\ttotal: 429ms\tremaining: 716ms\n",
            "375:\tlearn: 0.0015230\ttotal: 430ms\tremaining: 714ms\n",
            "376:\tlearn: 0.0015228\ttotal: 431ms\tremaining: 713ms\n",
            "377:\tlearn: 0.0015229\ttotal: 432ms\tremaining: 711ms\n",
            "378:\tlearn: 0.0015228\ttotal: 433ms\tremaining: 710ms\n",
            "379:\tlearn: 0.0015227\ttotal: 434ms\tremaining: 709ms\n",
            "380:\tlearn: 0.0015226\ttotal: 435ms\tremaining: 707ms\n",
            "381:\tlearn: 0.0015227\ttotal: 436ms\tremaining: 706ms\n",
            "382:\tlearn: 0.0015227\ttotal: 437ms\tremaining: 704ms\n",
            "383:\tlearn: 0.0015225\ttotal: 438ms\tremaining: 703ms\n",
            "384:\tlearn: 0.0015223\ttotal: 439ms\tremaining: 702ms\n",
            "385:\tlearn: 0.0015223\ttotal: 440ms\tremaining: 700ms\n",
            "386:\tlearn: 0.0015221\ttotal: 441ms\tremaining: 699ms\n",
            "387:\tlearn: 0.0015220\ttotal: 442ms\tremaining: 698ms\n",
            "388:\tlearn: 0.0015220\ttotal: 443ms\tremaining: 696ms\n",
            "389:\tlearn: 0.0015221\ttotal: 444ms\tremaining: 695ms\n",
            "390:\tlearn: 0.0015215\ttotal: 445ms\tremaining: 693ms\n",
            "391:\tlearn: 0.0015129\ttotal: 446ms\tremaining: 692ms\n",
            "392:\tlearn: 0.0015129\ttotal: 447ms\tremaining: 691ms\n",
            "393:\tlearn: 0.0015125\ttotal: 448ms\tremaining: 689ms\n",
            "394:\tlearn: 0.0015124\ttotal: 449ms\tremaining: 688ms\n",
            "395:\tlearn: 0.0015123\ttotal: 450ms\tremaining: 686ms\n",
            "396:\tlearn: 0.0015102\ttotal: 451ms\tremaining: 685ms\n",
            "397:\tlearn: 0.0015102\ttotal: 452ms\tremaining: 684ms\n",
            "398:\tlearn: 0.0015101\ttotal: 453ms\tremaining: 682ms\n",
            "399:\tlearn: 0.0015097\ttotal: 454ms\tremaining: 681ms\n",
            "400:\tlearn: 0.0015095\ttotal: 455ms\tremaining: 680ms\n",
            "401:\tlearn: 0.0015094\ttotal: 456ms\tremaining: 678ms\n",
            "402:\tlearn: 0.0015095\ttotal: 457ms\tremaining: 677ms\n",
            "403:\tlearn: 0.0015094\ttotal: 458ms\tremaining: 676ms\n",
            "404:\tlearn: 0.0014999\ttotal: 459ms\tremaining: 674ms\n",
            "405:\tlearn: 0.0014876\ttotal: 460ms\tremaining: 673ms\n",
            "406:\tlearn: 0.0014875\ttotal: 461ms\tremaining: 672ms\n",
            "407:\tlearn: 0.0014874\ttotal: 462ms\tremaining: 670ms\n",
            "408:\tlearn: 0.0014870\ttotal: 463ms\tremaining: 669ms\n",
            "409:\tlearn: 0.0014869\ttotal: 464ms\tremaining: 667ms\n",
            "410:\tlearn: 0.0014867\ttotal: 465ms\tremaining: 666ms\n",
            "411:\tlearn: 0.0014867\ttotal: 466ms\tremaining: 665ms\n",
            "412:\tlearn: 0.0014867\ttotal: 467ms\tremaining: 663ms\n",
            "413:\tlearn: 0.0014866\ttotal: 468ms\tremaining: 662ms\n",
            "414:\tlearn: 0.0014834\ttotal: 469ms\tremaining: 660ms\n",
            "415:\tlearn: 0.0014818\ttotal: 470ms\tremaining: 659ms\n",
            "416:\tlearn: 0.0014817\ttotal: 470ms\tremaining: 658ms\n",
            "417:\tlearn: 0.0014817\ttotal: 471ms\tremaining: 656ms\n",
            "418:\tlearn: 0.0014814\ttotal: 472ms\tremaining: 655ms\n",
            "419:\tlearn: 0.0014813\ttotal: 473ms\tremaining: 654ms\n",
            "420:\tlearn: 0.0014813\ttotal: 474ms\tremaining: 652ms\n",
            "421:\tlearn: 0.0014812\ttotal: 475ms\tremaining: 651ms\n",
            "422:\tlearn: 0.0014813\ttotal: 478ms\tremaining: 651ms\n",
            "423:\tlearn: 0.0014813\ttotal: 479ms\tremaining: 651ms\n",
            "424:\tlearn: 0.0014811\ttotal: 481ms\tremaining: 650ms\n",
            "425:\tlearn: 0.0014811\ttotal: 482ms\tremaining: 649ms\n",
            "426:\tlearn: 0.0014812\ttotal: 485ms\tremaining: 650ms\n",
            "427:\tlearn: 0.0014811\ttotal: 486ms\tremaining: 649ms\n",
            "428:\tlearn: 0.0014811\ttotal: 486ms\tremaining: 647ms\n",
            "429:\tlearn: 0.0014808\ttotal: 487ms\tremaining: 646ms\n",
            "430:\tlearn: 0.0014806\ttotal: 488ms\tremaining: 645ms\n",
            "431:\tlearn: 0.0014805\ttotal: 489ms\tremaining: 643ms\n",
            "432:\tlearn: 0.0014648\ttotal: 490ms\tremaining: 642ms\n",
            "433:\tlearn: 0.0014434\ttotal: 491ms\tremaining: 641ms\n",
            "434:\tlearn: 0.0014434\ttotal: 492ms\tremaining: 639ms\n",
            "435:\tlearn: 0.0014434\ttotal: 493ms\tremaining: 638ms\n",
            "436:\tlearn: 0.0014432\ttotal: 494ms\tremaining: 637ms\n",
            "437:\tlearn: 0.0014431\ttotal: 495ms\tremaining: 635ms\n",
            "438:\tlearn: 0.0014430\ttotal: 496ms\tremaining: 634ms\n",
            "439:\tlearn: 0.0014429\ttotal: 497ms\tremaining: 633ms\n",
            "440:\tlearn: 0.0014428\ttotal: 498ms\tremaining: 631ms\n",
            "441:\tlearn: 0.0014428\ttotal: 499ms\tremaining: 630ms\n",
            "442:\tlearn: 0.0014427\ttotal: 501ms\tremaining: 630ms\n",
            "443:\tlearn: 0.0014358\ttotal: 502ms\tremaining: 629ms\n",
            "444:\tlearn: 0.0014352\ttotal: 503ms\tremaining: 628ms\n",
            "445:\tlearn: 0.0014352\ttotal: 504ms\tremaining: 626ms\n",
            "446:\tlearn: 0.0014291\ttotal: 505ms\tremaining: 625ms\n",
            "447:\tlearn: 0.0014222\ttotal: 506ms\tremaining: 624ms\n",
            "448:\tlearn: 0.0014214\ttotal: 507ms\tremaining: 622ms\n",
            "449:\tlearn: 0.0014213\ttotal: 508ms\tremaining: 621ms\n",
            "450:\tlearn: 0.0014212\ttotal: 509ms\tremaining: 620ms\n",
            "451:\tlearn: 0.0014212\ttotal: 510ms\tremaining: 618ms\n",
            "452:\tlearn: 0.0014160\ttotal: 511ms\tremaining: 617ms\n",
            "453:\tlearn: 0.0014158\ttotal: 512ms\tremaining: 616ms\n",
            "454:\tlearn: 0.0014149\ttotal: 513ms\tremaining: 615ms\n",
            "455:\tlearn: 0.0014148\ttotal: 514ms\tremaining: 613ms\n",
            "456:\tlearn: 0.0014147\ttotal: 515ms\tremaining: 612ms\n",
            "457:\tlearn: 0.0014145\ttotal: 516ms\tremaining: 610ms\n",
            "458:\tlearn: 0.0014145\ttotal: 517ms\tremaining: 609ms\n",
            "459:\tlearn: 0.0014142\ttotal: 518ms\tremaining: 608ms\n",
            "460:\tlearn: 0.0014142\ttotal: 519ms\tremaining: 606ms\n",
            "461:\tlearn: 0.0014142\ttotal: 520ms\tremaining: 605ms\n",
            "462:\tlearn: 0.0014142\ttotal: 521ms\tremaining: 604ms\n",
            "463:\tlearn: 0.0014117\ttotal: 522ms\tremaining: 602ms\n",
            "464:\tlearn: 0.0014116\ttotal: 522ms\tremaining: 601ms\n",
            "465:\tlearn: 0.0014117\ttotal: 523ms\tremaining: 600ms\n",
            "466:\tlearn: 0.0014114\ttotal: 524ms\tremaining: 598ms\n",
            "467:\tlearn: 0.0014115\ttotal: 525ms\tremaining: 597ms\n",
            "468:\tlearn: 0.0014112\ttotal: 526ms\tremaining: 596ms\n",
            "469:\tlearn: 0.0014111\ttotal: 527ms\tremaining: 595ms\n",
            "470:\tlearn: 0.0014111\ttotal: 528ms\tremaining: 593ms\n",
            "471:\tlearn: 0.0014088\ttotal: 529ms\tremaining: 592ms\n",
            "472:\tlearn: 0.0014083\ttotal: 530ms\tremaining: 591ms\n",
            "473:\tlearn: 0.0014081\ttotal: 531ms\tremaining: 589ms\n",
            "474:\tlearn: 0.0014034\ttotal: 532ms\tremaining: 588ms\n",
            "475:\tlearn: 0.0014030\ttotal: 533ms\tremaining: 587ms\n",
            "476:\tlearn: 0.0014030\ttotal: 534ms\tremaining: 585ms\n",
            "477:\tlearn: 0.0014029\ttotal: 535ms\tremaining: 584ms\n",
            "478:\tlearn: 0.0013917\ttotal: 537ms\tremaining: 584ms\n",
            "479:\tlearn: 0.0013908\ttotal: 538ms\tremaining: 582ms\n",
            "480:\tlearn: 0.0013906\ttotal: 539ms\tremaining: 581ms\n",
            "481:\tlearn: 0.0013907\ttotal: 539ms\tremaining: 580ms\n",
            "482:\tlearn: 0.0013902\ttotal: 540ms\tremaining: 579ms\n",
            "483:\tlearn: 0.0013902\ttotal: 541ms\tremaining: 577ms\n",
            "484:\tlearn: 0.0013902\ttotal: 542ms\tremaining: 576ms\n",
            "485:\tlearn: 0.0013899\ttotal: 543ms\tremaining: 575ms\n",
            "486:\tlearn: 0.0013896\ttotal: 544ms\tremaining: 573ms\n",
            "487:\tlearn: 0.0013897\ttotal: 545ms\tremaining: 572ms\n",
            "488:\tlearn: 0.0013895\ttotal: 546ms\tremaining: 571ms\n",
            "489:\tlearn: 0.0013893\ttotal: 547ms\tremaining: 569ms\n",
            "490:\tlearn: 0.0013894\ttotal: 548ms\tremaining: 568ms\n",
            "491:\tlearn: 0.0013892\ttotal: 549ms\tremaining: 567ms\n",
            "492:\tlearn: 0.0013892\ttotal: 550ms\tremaining: 566ms\n",
            "493:\tlearn: 0.0013888\ttotal: 551ms\tremaining: 564ms\n",
            "494:\tlearn: 0.0013884\ttotal: 552ms\tremaining: 563ms\n",
            "495:\tlearn: 0.0013781\ttotal: 553ms\tremaining: 562ms\n",
            "496:\tlearn: 0.0013780\ttotal: 554ms\tremaining: 560ms\n",
            "497:\tlearn: 0.0013777\ttotal: 555ms\tremaining: 559ms\n",
            "498:\tlearn: 0.0013779\ttotal: 556ms\tremaining: 558ms\n",
            "499:\tlearn: 0.0013651\ttotal: 557ms\tremaining: 557ms\n",
            "500:\tlearn: 0.0013634\ttotal: 558ms\tremaining: 555ms\n",
            "501:\tlearn: 0.0013633\ttotal: 559ms\tremaining: 554ms\n",
            "502:\tlearn: 0.0013629\ttotal: 560ms\tremaining: 553ms\n",
            "503:\tlearn: 0.0013629\ttotal: 561ms\tremaining: 552ms\n",
            "504:\tlearn: 0.0013629\ttotal: 562ms\tremaining: 551ms\n",
            "505:\tlearn: 0.0013629\ttotal: 563ms\tremaining: 550ms\n",
            "506:\tlearn: 0.0013626\ttotal: 564ms\tremaining: 549ms\n",
            "507:\tlearn: 0.0013626\ttotal: 566ms\tremaining: 548ms\n",
            "508:\tlearn: 0.0013619\ttotal: 567ms\tremaining: 547ms\n",
            "509:\tlearn: 0.0013619\ttotal: 568ms\tremaining: 546ms\n",
            "510:\tlearn: 0.0013455\ttotal: 570ms\tremaining: 545ms\n",
            "511:\tlearn: 0.0013454\ttotal: 571ms\tremaining: 544ms\n",
            "512:\tlearn: 0.0013454\ttotal: 572ms\tremaining: 543ms\n",
            "513:\tlearn: 0.0013453\ttotal: 573ms\tremaining: 542ms\n",
            "514:\tlearn: 0.0013455\ttotal: 574ms\tremaining: 540ms\n",
            "515:\tlearn: 0.0013451\ttotal: 575ms\tremaining: 539ms\n",
            "516:\tlearn: 0.0013450\ttotal: 576ms\tremaining: 538ms\n",
            "517:\tlearn: 0.0013447\ttotal: 577ms\tremaining: 537ms\n",
            "518:\tlearn: 0.0013446\ttotal: 578ms\tremaining: 535ms\n",
            "519:\tlearn: 0.0013446\ttotal: 579ms\tremaining: 534ms\n",
            "520:\tlearn: 0.0013442\ttotal: 579ms\tremaining: 533ms\n",
            "521:\tlearn: 0.0013441\ttotal: 580ms\tremaining: 531ms\n",
            "522:\tlearn: 0.0013441\ttotal: 581ms\tremaining: 530ms\n",
            "523:\tlearn: 0.0013391\ttotal: 582ms\tremaining: 529ms\n",
            "524:\tlearn: 0.0013391\ttotal: 583ms\tremaining: 528ms\n",
            "525:\tlearn: 0.0013391\ttotal: 584ms\tremaining: 527ms\n",
            "526:\tlearn: 0.0013390\ttotal: 586ms\tremaining: 526ms\n",
            "527:\tlearn: 0.0013391\ttotal: 587ms\tremaining: 524ms\n",
            "528:\tlearn: 0.0013385\ttotal: 588ms\tremaining: 523ms\n",
            "529:\tlearn: 0.0013385\ttotal: 590ms\tremaining: 523ms\n",
            "530:\tlearn: 0.0013375\ttotal: 591ms\tremaining: 522ms\n",
            "531:\tlearn: 0.0013374\ttotal: 592ms\tremaining: 521ms\n",
            "532:\tlearn: 0.0013374\ttotal: 593ms\tremaining: 520ms\n",
            "533:\tlearn: 0.0013375\ttotal: 594ms\tremaining: 519ms\n",
            "534:\tlearn: 0.0013373\ttotal: 597ms\tremaining: 519ms\n",
            "535:\tlearn: 0.0013373\ttotal: 598ms\tremaining: 518ms\n",
            "536:\tlearn: 0.0013371\ttotal: 599ms\tremaining: 517ms\n",
            "537:\tlearn: 0.0013369\ttotal: 600ms\tremaining: 516ms\n",
            "538:\tlearn: 0.0013369\ttotal: 601ms\tremaining: 514ms\n",
            "539:\tlearn: 0.0013366\ttotal: 602ms\tremaining: 513ms\n",
            "540:\tlearn: 0.0013367\ttotal: 603ms\tremaining: 512ms\n",
            "541:\tlearn: 0.0013240\ttotal: 604ms\tremaining: 511ms\n",
            "542:\tlearn: 0.0013222\ttotal: 605ms\tremaining: 509ms\n",
            "543:\tlearn: 0.0013222\ttotal: 606ms\tremaining: 508ms\n",
            "544:\tlearn: 0.0013222\ttotal: 607ms\tremaining: 507ms\n",
            "545:\tlearn: 0.0013222\ttotal: 608ms\tremaining: 506ms\n",
            "546:\tlearn: 0.0013222\ttotal: 609ms\tremaining: 504ms\n",
            "547:\tlearn: 0.0013222\ttotal: 610ms\tremaining: 503ms\n",
            "548:\tlearn: 0.0013219\ttotal: 611ms\tremaining: 502ms\n",
            "549:\tlearn: 0.0013217\ttotal: 612ms\tremaining: 501ms\n",
            "550:\tlearn: 0.0013210\ttotal: 613ms\tremaining: 500ms\n",
            "551:\tlearn: 0.0013210\ttotal: 614ms\tremaining: 498ms\n",
            "552:\tlearn: 0.0013209\ttotal: 615ms\tremaining: 497ms\n",
            "553:\tlearn: 0.0013209\ttotal: 616ms\tremaining: 496ms\n",
            "554:\tlearn: 0.0013118\ttotal: 617ms\tremaining: 495ms\n",
            "555:\tlearn: 0.0013011\ttotal: 618ms\tremaining: 494ms\n",
            "556:\tlearn: 0.0012899\ttotal: 619ms\tremaining: 492ms\n",
            "557:\tlearn: 0.0012899\ttotal: 620ms\tremaining: 491ms\n",
            "558:\tlearn: 0.0012897\ttotal: 621ms\tremaining: 490ms\n",
            "559:\tlearn: 0.0012895\ttotal: 622ms\tremaining: 489ms\n",
            "560:\tlearn: 0.0012891\ttotal: 623ms\tremaining: 488ms\n",
            "561:\tlearn: 0.0012888\ttotal: 624ms\tremaining: 487ms\n",
            "562:\tlearn: 0.0012886\ttotal: 625ms\tremaining: 485ms\n",
            "563:\tlearn: 0.0012884\ttotal: 626ms\tremaining: 484ms\n",
            "564:\tlearn: 0.0012880\ttotal: 627ms\tremaining: 483ms\n",
            "565:\tlearn: 0.0012876\ttotal: 628ms\tremaining: 482ms\n",
            "566:\tlearn: 0.0012878\ttotal: 629ms\tremaining: 481ms\n",
            "567:\tlearn: 0.0012876\ttotal: 630ms\tremaining: 479ms\n",
            "568:\tlearn: 0.0012869\ttotal: 631ms\tremaining: 478ms\n",
            "569:\tlearn: 0.0012861\ttotal: 632ms\tremaining: 477ms\n",
            "570:\tlearn: 0.0012850\ttotal: 633ms\tremaining: 476ms\n",
            "571:\tlearn: 0.0012801\ttotal: 634ms\tremaining: 475ms\n",
            "572:\tlearn: 0.0012801\ttotal: 635ms\tremaining: 473ms\n",
            "573:\tlearn: 0.0012801\ttotal: 636ms\tremaining: 472ms\n",
            "574:\tlearn: 0.0012790\ttotal: 637ms\tremaining: 471ms\n",
            "575:\tlearn: 0.0012788\ttotal: 638ms\tremaining: 470ms\n",
            "576:\tlearn: 0.0012787\ttotal: 639ms\tremaining: 469ms\n",
            "577:\tlearn: 0.0012784\ttotal: 640ms\tremaining: 467ms\n",
            "578:\tlearn: 0.0012784\ttotal: 641ms\tremaining: 466ms\n",
            "579:\tlearn: 0.0012784\ttotal: 642ms\tremaining: 465ms\n",
            "580:\tlearn: 0.0012784\ttotal: 643ms\tremaining: 464ms\n",
            "581:\tlearn: 0.0012784\ttotal: 644ms\tremaining: 463ms\n",
            "582:\tlearn: 0.0012784\ttotal: 645ms\tremaining: 461ms\n",
            "583:\tlearn: 0.0012784\ttotal: 646ms\tremaining: 460ms\n",
            "584:\tlearn: 0.0012784\ttotal: 647ms\tremaining: 459ms\n",
            "585:\tlearn: 0.0012782\ttotal: 648ms\tremaining: 458ms\n",
            "586:\tlearn: 0.0012781\ttotal: 649ms\tremaining: 457ms\n",
            "587:\tlearn: 0.0012777\ttotal: 650ms\tremaining: 455ms\n",
            "588:\tlearn: 0.0012774\ttotal: 651ms\tremaining: 454ms\n",
            "589:\tlearn: 0.0012770\ttotal: 652ms\tremaining: 453ms\n",
            "590:\tlearn: 0.0012769\ttotal: 653ms\tremaining: 452ms\n",
            "591:\tlearn: 0.0012762\ttotal: 654ms\tremaining: 451ms\n",
            "592:\tlearn: 0.0012761\ttotal: 655ms\tremaining: 449ms\n",
            "593:\tlearn: 0.0012758\ttotal: 656ms\tremaining: 448ms\n",
            "594:\tlearn: 0.0012750\ttotal: 657ms\tremaining: 447ms\n",
            "595:\tlearn: 0.0012751\ttotal: 659ms\tremaining: 447ms\n",
            "596:\tlearn: 0.0012745\ttotal: 660ms\tremaining: 446ms\n",
            "597:\tlearn: 0.0012745\ttotal: 661ms\tremaining: 445ms\n",
            "598:\tlearn: 0.0012744\ttotal: 663ms\tremaining: 444ms\n",
            "599:\tlearn: 0.0012744\ttotal: 664ms\tremaining: 443ms\n",
            "600:\tlearn: 0.0012744\ttotal: 665ms\tremaining: 442ms\n",
            "601:\tlearn: 0.0012741\ttotal: 666ms\tremaining: 440ms\n",
            "602:\tlearn: 0.0012741\ttotal: 667ms\tremaining: 439ms\n",
            "603:\tlearn: 0.0012736\ttotal: 668ms\tremaining: 438ms\n",
            "604:\tlearn: 0.0012736\ttotal: 669ms\tremaining: 437ms\n",
            "605:\tlearn: 0.0012736\ttotal: 670ms\tremaining: 436ms\n",
            "606:\tlearn: 0.0012732\ttotal: 671ms\tremaining: 434ms\n",
            "607:\tlearn: 0.0012728\ttotal: 672ms\tremaining: 433ms\n",
            "608:\tlearn: 0.0012726\ttotal: 673ms\tremaining: 432ms\n",
            "609:\tlearn: 0.0012724\ttotal: 674ms\tremaining: 431ms\n",
            "610:\tlearn: 0.0012725\ttotal: 675ms\tremaining: 430ms\n",
            "611:\tlearn: 0.0012722\ttotal: 676ms\tremaining: 429ms\n",
            "612:\tlearn: 0.0012722\ttotal: 677ms\tremaining: 427ms\n",
            "613:\tlearn: 0.0012721\ttotal: 678ms\tremaining: 426ms\n",
            "614:\tlearn: 0.0012719\ttotal: 679ms\tremaining: 425ms\n",
            "615:\tlearn: 0.0012675\ttotal: 680ms\tremaining: 424ms\n",
            "616:\tlearn: 0.0012673\ttotal: 681ms\tremaining: 423ms\n",
            "617:\tlearn: 0.0012673\ttotal: 682ms\tremaining: 421ms\n",
            "618:\tlearn: 0.0012673\ttotal: 683ms\tremaining: 420ms\n",
            "619:\tlearn: 0.0012672\ttotal: 684ms\tremaining: 419ms\n",
            "620:\tlearn: 0.0012668\ttotal: 685ms\tremaining: 418ms\n",
            "621:\tlearn: 0.0012651\ttotal: 686ms\tremaining: 417ms\n",
            "622:\tlearn: 0.0012649\ttotal: 687ms\tremaining: 416ms\n",
            "623:\tlearn: 0.0012648\ttotal: 688ms\tremaining: 414ms\n",
            "624:\tlearn: 0.0012648\ttotal: 689ms\tremaining: 413ms\n",
            "625:\tlearn: 0.0012648\ttotal: 690ms\tremaining: 412ms\n",
            "626:\tlearn: 0.0012648\ttotal: 692ms\tremaining: 412ms\n",
            "627:\tlearn: 0.0012648\ttotal: 694ms\tremaining: 411ms\n",
            "628:\tlearn: 0.0012647\ttotal: 695ms\tremaining: 410ms\n",
            "629:\tlearn: 0.0012646\ttotal: 698ms\tremaining: 410ms\n",
            "630:\tlearn: 0.0012646\ttotal: 700ms\tremaining: 409ms\n",
            "631:\tlearn: 0.0012645\ttotal: 702ms\tremaining: 408ms\n",
            "632:\tlearn: 0.0012645\ttotal: 702ms\tremaining: 407ms\n",
            "633:\tlearn: 0.0012645\ttotal: 703ms\tremaining: 406ms\n",
            "634:\tlearn: 0.0012596\ttotal: 704ms\tremaining: 405ms\n",
            "635:\tlearn: 0.0012580\ttotal: 705ms\tremaining: 404ms\n",
            "636:\tlearn: 0.0012580\ttotal: 706ms\tremaining: 402ms\n",
            "637:\tlearn: 0.0012579\ttotal: 707ms\tremaining: 401ms\n",
            "638:\tlearn: 0.0012580\ttotal: 708ms\tremaining: 400ms\n",
            "639:\tlearn: 0.0012555\ttotal: 709ms\tremaining: 399ms\n",
            "640:\tlearn: 0.0012554\ttotal: 710ms\tremaining: 398ms\n",
            "641:\tlearn: 0.0012554\ttotal: 711ms\tremaining: 396ms\n",
            "642:\tlearn: 0.0012552\ttotal: 712ms\tremaining: 395ms\n",
            "643:\tlearn: 0.0012553\ttotal: 713ms\tremaining: 394ms\n",
            "644:\tlearn: 0.0012553\ttotal: 714ms\tremaining: 393ms\n",
            "645:\tlearn: 0.0012543\ttotal: 715ms\tremaining: 392ms\n",
            "646:\tlearn: 0.0012539\ttotal: 716ms\tremaining: 391ms\n",
            "647:\tlearn: 0.0012538\ttotal: 717ms\tremaining: 389ms\n",
            "648:\tlearn: 0.0012390\ttotal: 718ms\tremaining: 388ms\n",
            "649:\tlearn: 0.0012345\ttotal: 719ms\tremaining: 387ms\n",
            "650:\tlearn: 0.0012344\ttotal: 720ms\tremaining: 386ms\n",
            "651:\tlearn: 0.0012344\ttotal: 721ms\tremaining: 385ms\n",
            "652:\tlearn: 0.0012344\ttotal: 722ms\tremaining: 384ms\n",
            "653:\tlearn: 0.0012344\ttotal: 723ms\tremaining: 383ms\n",
            "654:\tlearn: 0.0012341\ttotal: 724ms\tremaining: 382ms\n",
            "655:\tlearn: 0.0012329\ttotal: 725ms\tremaining: 380ms\n",
            "656:\tlearn: 0.0012328\ttotal: 726ms\tremaining: 379ms\n",
            "657:\tlearn: 0.0012325\ttotal: 727ms\tremaining: 378ms\n",
            "658:\tlearn: 0.0012323\ttotal: 728ms\tremaining: 377ms\n",
            "659:\tlearn: 0.0012314\ttotal: 729ms\tremaining: 376ms\n",
            "660:\tlearn: 0.0012313\ttotal: 730ms\tremaining: 375ms\n",
            "661:\tlearn: 0.0012313\ttotal: 731ms\tremaining: 373ms\n",
            "662:\tlearn: 0.0012313\ttotal: 732ms\tremaining: 372ms\n",
            "663:\tlearn: 0.0012303\ttotal: 733ms\tremaining: 371ms\n",
            "664:\tlearn: 0.0012302\ttotal: 734ms\tremaining: 370ms\n",
            "665:\tlearn: 0.0012304\ttotal: 735ms\tremaining: 369ms\n",
            "666:\tlearn: 0.0012297\ttotal: 736ms\tremaining: 368ms\n",
            "667:\tlearn: 0.0012298\ttotal: 737ms\tremaining: 366ms\n",
            "668:\tlearn: 0.0012292\ttotal: 738ms\tremaining: 365ms\n",
            "669:\tlearn: 0.0012291\ttotal: 739ms\tremaining: 364ms\n",
            "670:\tlearn: 0.0012281\ttotal: 740ms\tremaining: 363ms\n",
            "671:\tlearn: 0.0012279\ttotal: 741ms\tremaining: 362ms\n",
            "672:\tlearn: 0.0012277\ttotal: 744ms\tremaining: 362ms\n",
            "673:\tlearn: 0.0012273\ttotal: 745ms\tremaining: 360ms\n",
            "674:\tlearn: 0.0012273\ttotal: 746ms\tremaining: 359ms\n",
            "675:\tlearn: 0.0012187\ttotal: 748ms\tremaining: 358ms\n",
            "676:\tlearn: 0.0012108\ttotal: 753ms\tremaining: 359ms\n",
            "677:\tlearn: 0.0012004\ttotal: 754ms\tremaining: 358ms\n",
            "678:\tlearn: 0.0012003\ttotal: 755ms\tremaining: 357ms\n",
            "679:\tlearn: 0.0012001\ttotal: 756ms\tremaining: 356ms\n",
            "680:\tlearn: 0.0012001\ttotal: 757ms\tremaining: 355ms\n",
            "681:\tlearn: 0.0011999\ttotal: 758ms\tremaining: 353ms\n",
            "682:\tlearn: 0.0011999\ttotal: 759ms\tremaining: 352ms\n",
            "683:\tlearn: 0.0011998\ttotal: 760ms\tremaining: 351ms\n",
            "684:\tlearn: 0.0011998\ttotal: 761ms\tremaining: 350ms\n",
            "685:\tlearn: 0.0011998\ttotal: 762ms\tremaining: 349ms\n",
            "686:\tlearn: 0.0011997\ttotal: 763ms\tremaining: 348ms\n",
            "687:\tlearn: 0.0011995\ttotal: 764ms\tremaining: 346ms\n",
            "688:\tlearn: 0.0011996\ttotal: 765ms\tremaining: 345ms\n",
            "689:\tlearn: 0.0011996\ttotal: 766ms\tremaining: 344ms\n",
            "690:\tlearn: 0.0011995\ttotal: 767ms\tremaining: 343ms\n",
            "691:\tlearn: 0.0011995\ttotal: 768ms\tremaining: 342ms\n",
            "692:\tlearn: 0.0011994\ttotal: 769ms\tremaining: 341ms\n",
            "693:\tlearn: 0.0011995\ttotal: 770ms\tremaining: 339ms\n",
            "694:\tlearn: 0.0011994\ttotal: 771ms\tremaining: 338ms\n",
            "695:\tlearn: 0.0011995\ttotal: 773ms\tremaining: 338ms\n",
            "696:\tlearn: 0.0011991\ttotal: 775ms\tremaining: 337ms\n",
            "697:\tlearn: 0.0011989\ttotal: 776ms\tremaining: 336ms\n",
            "698:\tlearn: 0.0011979\ttotal: 780ms\tremaining: 336ms\n",
            "699:\tlearn: 0.0011979\ttotal: 781ms\tremaining: 335ms\n",
            "700:\tlearn: 0.0011979\ttotal: 782ms\tremaining: 334ms\n",
            "701:\tlearn: 0.0011947\ttotal: 783ms\tremaining: 332ms\n",
            "702:\tlearn: 0.0011946\ttotal: 784ms\tremaining: 331ms\n",
            "703:\tlearn: 0.0011944\ttotal: 785ms\tremaining: 330ms\n",
            "704:\tlearn: 0.0011943\ttotal: 786ms\tremaining: 329ms\n",
            "705:\tlearn: 0.0011942\ttotal: 787ms\tremaining: 328ms\n",
            "706:\tlearn: 0.0011941\ttotal: 788ms\tremaining: 327ms\n",
            "707:\tlearn: 0.0011938\ttotal: 789ms\tremaining: 325ms\n",
            "708:\tlearn: 0.0011850\ttotal: 790ms\tremaining: 324ms\n",
            "709:\tlearn: 0.0011849\ttotal: 791ms\tremaining: 323ms\n",
            "710:\tlearn: 0.0011839\ttotal: 792ms\tremaining: 322ms\n",
            "711:\tlearn: 0.0011839\ttotal: 793ms\tremaining: 321ms\n",
            "712:\tlearn: 0.0011837\ttotal: 794ms\tremaining: 320ms\n",
            "713:\tlearn: 0.0011837\ttotal: 795ms\tremaining: 319ms\n",
            "714:\tlearn: 0.0011838\ttotal: 797ms\tremaining: 318ms\n",
            "715:\tlearn: 0.0011838\ttotal: 798ms\tremaining: 316ms\n",
            "716:\tlearn: 0.0011838\ttotal: 799ms\tremaining: 315ms\n",
            "717:\tlearn: 0.0011835\ttotal: 800ms\tremaining: 314ms\n",
            "718:\tlearn: 0.0011833\ttotal: 801ms\tremaining: 313ms\n",
            "719:\tlearn: 0.0011748\ttotal: 802ms\tremaining: 312ms\n",
            "720:\tlearn: 0.0011748\ttotal: 803ms\tremaining: 311ms\n",
            "721:\tlearn: 0.0011748\ttotal: 804ms\tremaining: 310ms\n",
            "722:\tlearn: 0.0011747\ttotal: 805ms\tremaining: 309ms\n",
            "723:\tlearn: 0.0011736\ttotal: 806ms\tremaining: 307ms\n",
            "724:\tlearn: 0.0011732\ttotal: 807ms\tremaining: 306ms\n",
            "725:\tlearn: 0.0011732\ttotal: 809ms\tremaining: 305ms\n",
            "726:\tlearn: 0.0011731\ttotal: 810ms\tremaining: 304ms\n",
            "727:\tlearn: 0.0011731\ttotal: 811ms\tremaining: 303ms\n",
            "728:\tlearn: 0.0011732\ttotal: 812ms\tremaining: 302ms\n",
            "729:\tlearn: 0.0011730\ttotal: 813ms\tremaining: 301ms\n",
            "730:\tlearn: 0.0011731\ttotal: 814ms\tremaining: 300ms\n",
            "731:\tlearn: 0.0011730\ttotal: 815ms\tremaining: 298ms\n",
            "732:\tlearn: 0.0011731\ttotal: 816ms\tremaining: 297ms\n",
            "733:\tlearn: 0.0011729\ttotal: 817ms\tremaining: 296ms\n",
            "734:\tlearn: 0.0011727\ttotal: 818ms\tremaining: 295ms\n",
            "735:\tlearn: 0.0011727\ttotal: 819ms\tremaining: 294ms\n",
            "736:\tlearn: 0.0011725\ttotal: 820ms\tremaining: 293ms\n",
            "737:\tlearn: 0.0011725\ttotal: 822ms\tremaining: 292ms\n",
            "738:\tlearn: 0.0011727\ttotal: 823ms\tremaining: 291ms\n",
            "739:\tlearn: 0.0011689\ttotal: 824ms\tremaining: 290ms\n",
            "740:\tlearn: 0.0011687\ttotal: 825ms\tremaining: 288ms\n",
            "741:\tlearn: 0.0011687\ttotal: 826ms\tremaining: 287ms\n",
            "742:\tlearn: 0.0011685\ttotal: 828ms\tremaining: 286ms\n",
            "743:\tlearn: 0.0011686\ttotal: 829ms\tremaining: 285ms\n",
            "744:\tlearn: 0.0011683\ttotal: 832ms\tremaining: 285ms\n",
            "745:\tlearn: 0.0011684\ttotal: 833ms\tremaining: 283ms\n",
            "746:\tlearn: 0.0011683\ttotal: 834ms\tremaining: 282ms\n",
            "747:\tlearn: 0.0011683\ttotal: 836ms\tremaining: 282ms\n",
            "748:\tlearn: 0.0011682\ttotal: 837ms\tremaining: 280ms\n",
            "749:\tlearn: 0.0011682\ttotal: 838ms\tremaining: 279ms\n",
            "750:\tlearn: 0.0011682\ttotal: 840ms\tremaining: 278ms\n",
            "751:\tlearn: 0.0011681\ttotal: 841ms\tremaining: 277ms\n",
            "752:\tlearn: 0.0011681\ttotal: 843ms\tremaining: 276ms\n",
            "753:\tlearn: 0.0011678\ttotal: 844ms\tremaining: 275ms\n",
            "754:\tlearn: 0.0011676\ttotal: 845ms\tremaining: 274ms\n",
            "755:\tlearn: 0.0011674\ttotal: 846ms\tremaining: 273ms\n",
            "756:\tlearn: 0.0011673\ttotal: 847ms\tremaining: 272ms\n",
            "757:\tlearn: 0.0011665\ttotal: 849ms\tremaining: 271ms\n",
            "758:\tlearn: 0.0011663\ttotal: 850ms\tremaining: 270ms\n",
            "759:\tlearn: 0.0011661\ttotal: 851ms\tremaining: 269ms\n",
            "760:\tlearn: 0.0011661\ttotal: 852ms\tremaining: 267ms\n",
            "761:\tlearn: 0.0011659\ttotal: 853ms\tremaining: 266ms\n",
            "762:\tlearn: 0.0011659\ttotal: 854ms\tremaining: 265ms\n",
            "763:\tlearn: 0.0011659\ttotal: 855ms\tremaining: 264ms\n",
            "764:\tlearn: 0.0011660\ttotal: 856ms\tremaining: 263ms\n",
            "765:\tlearn: 0.0011656\ttotal: 857ms\tremaining: 262ms\n",
            "766:\tlearn: 0.0011645\ttotal: 858ms\tremaining: 261ms\n",
            "767:\tlearn: 0.0011644\ttotal: 859ms\tremaining: 259ms\n",
            "768:\tlearn: 0.0011643\ttotal: 860ms\tremaining: 258ms\n",
            "769:\tlearn: 0.0011642\ttotal: 861ms\tremaining: 257ms\n",
            "770:\tlearn: 0.0011640\ttotal: 862ms\tremaining: 256ms\n",
            "771:\tlearn: 0.0011637\ttotal: 863ms\tremaining: 255ms\n",
            "772:\tlearn: 0.0011582\ttotal: 864ms\tremaining: 254ms\n",
            "773:\tlearn: 0.0011580\ttotal: 865ms\tremaining: 252ms\n",
            "774:\tlearn: 0.0011579\ttotal: 866ms\tremaining: 251ms\n",
            "775:\tlearn: 0.0011579\ttotal: 867ms\tremaining: 250ms\n",
            "776:\tlearn: 0.0011579\ttotal: 868ms\tremaining: 249ms\n",
            "777:\tlearn: 0.0011575\ttotal: 869ms\tremaining: 248ms\n",
            "778:\tlearn: 0.0011576\ttotal: 870ms\tremaining: 247ms\n",
            "779:\tlearn: 0.0011576\ttotal: 871ms\tremaining: 246ms\n",
            "780:\tlearn: 0.0011576\ttotal: 872ms\tremaining: 244ms\n",
            "781:\tlearn: 0.0011574\ttotal: 873ms\tremaining: 243ms\n",
            "782:\tlearn: 0.0011575\ttotal: 874ms\tremaining: 242ms\n",
            "783:\tlearn: 0.0011573\ttotal: 875ms\tremaining: 241ms\n",
            "784:\tlearn: 0.0011574\ttotal: 876ms\tremaining: 240ms\n",
            "785:\tlearn: 0.0011573\ttotal: 877ms\tremaining: 239ms\n",
            "786:\tlearn: 0.0011572\ttotal: 878ms\tremaining: 238ms\n",
            "787:\tlearn: 0.0011571\ttotal: 879ms\tremaining: 236ms\n",
            "788:\tlearn: 0.0011570\ttotal: 880ms\tremaining: 235ms\n",
            "789:\tlearn: 0.0011571\ttotal: 881ms\tremaining: 234ms\n",
            "790:\tlearn: 0.0011570\ttotal: 881ms\tremaining: 233ms\n",
            "791:\tlearn: 0.0011570\ttotal: 882ms\tremaining: 232ms\n",
            "792:\tlearn: 0.0011569\ttotal: 883ms\tremaining: 231ms\n",
            "793:\tlearn: 0.0011569\ttotal: 884ms\tremaining: 229ms\n",
            "794:\tlearn: 0.0011567\ttotal: 885ms\tremaining: 228ms\n",
            "795:\tlearn: 0.0011562\ttotal: 886ms\tremaining: 227ms\n",
            "796:\tlearn: 0.0011563\ttotal: 887ms\tremaining: 226ms\n",
            "797:\tlearn: 0.0011563\ttotal: 888ms\tremaining: 225ms\n",
            "798:\tlearn: 0.0011562\ttotal: 889ms\tremaining: 224ms\n",
            "799:\tlearn: 0.0011563\ttotal: 890ms\tremaining: 223ms\n",
            "800:\tlearn: 0.0011561\ttotal: 891ms\tremaining: 221ms\n",
            "801:\tlearn: 0.0011562\ttotal: 892ms\tremaining: 220ms\n",
            "802:\tlearn: 0.0011561\ttotal: 893ms\tremaining: 219ms\n",
            "803:\tlearn: 0.0011560\ttotal: 894ms\tremaining: 218ms\n",
            "804:\tlearn: 0.0011561\ttotal: 895ms\tremaining: 217ms\n",
            "805:\tlearn: 0.0011558\ttotal: 896ms\tremaining: 216ms\n",
            "806:\tlearn: 0.0011555\ttotal: 897ms\tremaining: 215ms\n",
            "807:\tlearn: 0.0011550\ttotal: 898ms\tremaining: 213ms\n",
            "808:\tlearn: 0.0011521\ttotal: 899ms\tremaining: 212ms\n",
            "809:\tlearn: 0.0011521\ttotal: 900ms\tremaining: 211ms\n",
            "810:\tlearn: 0.0011515\ttotal: 901ms\tremaining: 210ms\n",
            "811:\tlearn: 0.0011421\ttotal: 902ms\tremaining: 209ms\n",
            "812:\tlearn: 0.0011414\ttotal: 903ms\tremaining: 208ms\n",
            "813:\tlearn: 0.0011332\ttotal: 904ms\tremaining: 206ms\n",
            "814:\tlearn: 0.0011328\ttotal: 905ms\tremaining: 205ms\n",
            "815:\tlearn: 0.0011326\ttotal: 906ms\tremaining: 204ms\n",
            "816:\tlearn: 0.0011318\ttotal: 907ms\tremaining: 203ms\n",
            "817:\tlearn: 0.0011318\ttotal: 908ms\tremaining: 202ms\n",
            "818:\tlearn: 0.0011317\ttotal: 909ms\tremaining: 201ms\n",
            "819:\tlearn: 0.0011317\ttotal: 910ms\tremaining: 200ms\n",
            "820:\tlearn: 0.0011317\ttotal: 911ms\tremaining: 199ms\n",
            "821:\tlearn: 0.0011316\ttotal: 912ms\tremaining: 197ms\n",
            "822:\tlearn: 0.0011315\ttotal: 913ms\tremaining: 196ms\n",
            "823:\tlearn: 0.0011314\ttotal: 914ms\tremaining: 195ms\n",
            "824:\tlearn: 0.0011307\ttotal: 914ms\tremaining: 194ms\n",
            "825:\tlearn: 0.0011307\ttotal: 915ms\tremaining: 193ms\n",
            "826:\tlearn: 0.0011306\ttotal: 916ms\tremaining: 192ms\n",
            "827:\tlearn: 0.0011307\ttotal: 917ms\tremaining: 191ms\n",
            "828:\tlearn: 0.0011301\ttotal: 918ms\tremaining: 189ms\n",
            "829:\tlearn: 0.0011297\ttotal: 919ms\tremaining: 188ms\n",
            "830:\tlearn: 0.0011297\ttotal: 920ms\tremaining: 187ms\n",
            "831:\tlearn: 0.0011297\ttotal: 921ms\tremaining: 186ms\n",
            "832:\tlearn: 0.0011299\ttotal: 922ms\tremaining: 185ms\n",
            "833:\tlearn: 0.0011297\ttotal: 923ms\tremaining: 184ms\n",
            "834:\tlearn: 0.0011297\ttotal: 924ms\tremaining: 183ms\n",
            "835:\tlearn: 0.0011297\ttotal: 925ms\tremaining: 181ms\n",
            "836:\tlearn: 0.0011297\ttotal: 926ms\tremaining: 180ms\n",
            "837:\tlearn: 0.0011297\ttotal: 927ms\tremaining: 179ms\n",
            "838:\tlearn: 0.0011294\ttotal: 928ms\tremaining: 178ms\n",
            "839:\tlearn: 0.0011293\ttotal: 929ms\tremaining: 177ms\n",
            "840:\tlearn: 0.0011292\ttotal: 930ms\tremaining: 176ms\n",
            "841:\tlearn: 0.0011291\ttotal: 931ms\tremaining: 175ms\n",
            "842:\tlearn: 0.0011288\ttotal: 932ms\tremaining: 174ms\n",
            "843:\tlearn: 0.0011284\ttotal: 933ms\tremaining: 172ms\n",
            "844:\tlearn: 0.0011285\ttotal: 934ms\tremaining: 171ms\n",
            "845:\tlearn: 0.0011285\ttotal: 935ms\tremaining: 170ms\n",
            "846:\tlearn: 0.0011285\ttotal: 935ms\tremaining: 169ms\n",
            "847:\tlearn: 0.0011285\ttotal: 936ms\tremaining: 168ms\n",
            "848:\tlearn: 0.0011285\ttotal: 937ms\tremaining: 167ms\n",
            "849:\tlearn: 0.0011285\ttotal: 938ms\tremaining: 166ms\n",
            "850:\tlearn: 0.0011281\ttotal: 939ms\tremaining: 164ms\n",
            "851:\tlearn: 0.0011281\ttotal: 940ms\tremaining: 163ms\n",
            "852:\tlearn: 0.0011282\ttotal: 941ms\tremaining: 162ms\n",
            "853:\tlearn: 0.0011282\ttotal: 942ms\tremaining: 161ms\n",
            "854:\tlearn: 0.0011282\ttotal: 943ms\tremaining: 160ms\n",
            "855:\tlearn: 0.0011275\ttotal: 944ms\tremaining: 159ms\n",
            "856:\tlearn: 0.0011274\ttotal: 945ms\tremaining: 158ms\n",
            "857:\tlearn: 0.0011273\ttotal: 946ms\tremaining: 157ms\n",
            "858:\tlearn: 0.0011223\ttotal: 947ms\tremaining: 155ms\n",
            "859:\tlearn: 0.0011217\ttotal: 948ms\tremaining: 154ms\n",
            "860:\tlearn: 0.0011214\ttotal: 949ms\tremaining: 153ms\n",
            "861:\tlearn: 0.0011211\ttotal: 950ms\tremaining: 152ms\n",
            "862:\tlearn: 0.0011211\ttotal: 952ms\tremaining: 151ms\n",
            "863:\tlearn: 0.0011208\ttotal: 953ms\tremaining: 150ms\n",
            "864:\tlearn: 0.0011209\ttotal: 954ms\tremaining: 149ms\n",
            "865:\tlearn: 0.0011207\ttotal: 955ms\tremaining: 148ms\n",
            "866:\tlearn: 0.0011207\ttotal: 956ms\tremaining: 147ms\n",
            "867:\tlearn: 0.0011207\ttotal: 962ms\tremaining: 146ms\n",
            "868:\tlearn: 0.0011206\ttotal: 965ms\tremaining: 145ms\n",
            "869:\tlearn: 0.0011205\ttotal: 967ms\tremaining: 144ms\n",
            "870:\tlearn: 0.0011207\ttotal: 968ms\tremaining: 143ms\n",
            "871:\tlearn: 0.0011204\ttotal: 969ms\tremaining: 142ms\n",
            "872:\tlearn: 0.0011203\ttotal: 971ms\tremaining: 141ms\n",
            "873:\tlearn: 0.0011203\ttotal: 972ms\tremaining: 140ms\n",
            "874:\tlearn: 0.0011201\ttotal: 973ms\tremaining: 139ms\n",
            "875:\tlearn: 0.0011201\ttotal: 974ms\tremaining: 138ms\n",
            "876:\tlearn: 0.0011201\ttotal: 975ms\tremaining: 137ms\n",
            "877:\tlearn: 0.0011202\ttotal: 976ms\tremaining: 136ms\n",
            "878:\tlearn: 0.0011200\ttotal: 976ms\tremaining: 134ms\n",
            "879:\tlearn: 0.0011201\ttotal: 977ms\tremaining: 133ms\n",
            "880:\tlearn: 0.0011199\ttotal: 978ms\tremaining: 132ms\n",
            "881:\tlearn: 0.0011186\ttotal: 979ms\tremaining: 131ms\n",
            "882:\tlearn: 0.0011114\ttotal: 980ms\tremaining: 130ms\n",
            "883:\tlearn: 0.0011115\ttotal: 981ms\tremaining: 129ms\n",
            "884:\tlearn: 0.0011115\ttotal: 982ms\tremaining: 128ms\n",
            "885:\tlearn: 0.0011114\ttotal: 985ms\tremaining: 127ms\n",
            "886:\tlearn: 0.0011114\ttotal: 987ms\tremaining: 126ms\n",
            "887:\tlearn: 0.0011113\ttotal: 988ms\tremaining: 125ms\n",
            "888:\tlearn: 0.0011113\ttotal: 989ms\tremaining: 123ms\n",
            "889:\tlearn: 0.0011113\ttotal: 990ms\tremaining: 122ms\n",
            "890:\tlearn: 0.0011113\ttotal: 991ms\tremaining: 121ms\n",
            "891:\tlearn: 0.0011066\ttotal: 992ms\tremaining: 120ms\n",
            "892:\tlearn: 0.0011063\ttotal: 993ms\tremaining: 119ms\n",
            "893:\tlearn: 0.0011062\ttotal: 994ms\tremaining: 118ms\n",
            "894:\tlearn: 0.0011061\ttotal: 995ms\tremaining: 117ms\n",
            "895:\tlearn: 0.0011062\ttotal: 996ms\tremaining: 116ms\n",
            "896:\tlearn: 0.0011062\ttotal: 997ms\tremaining: 114ms\n",
            "897:\tlearn: 0.0011052\ttotal: 998ms\tremaining: 113ms\n",
            "898:\tlearn: 0.0011045\ttotal: 999ms\tremaining: 112ms\n",
            "899:\tlearn: 0.0011043\ttotal: 1000ms\tremaining: 111ms\n",
            "900:\tlearn: 0.0011039\ttotal: 1s\tremaining: 110ms\n",
            "901:\tlearn: 0.0011038\ttotal: 1s\tremaining: 109ms\n",
            "902:\tlearn: 0.0011038\ttotal: 1s\tremaining: 108ms\n",
            "903:\tlearn: 0.0011038\ttotal: 1s\tremaining: 107ms\n",
            "904:\tlearn: 0.0011038\ttotal: 1s\tremaining: 105ms\n",
            "905:\tlearn: 0.0011038\ttotal: 1s\tremaining: 104ms\n",
            "906:\tlearn: 0.0011038\ttotal: 1.01s\tremaining: 103ms\n",
            "907:\tlearn: 0.0011038\ttotal: 1.01s\tremaining: 102ms\n",
            "908:\tlearn: 0.0011036\ttotal: 1.01s\tremaining: 101ms\n",
            "909:\tlearn: 0.0011036\ttotal: 1.01s\tremaining: 99.8ms\n",
            "910:\tlearn: 0.0011035\ttotal: 1.01s\tremaining: 98.7ms\n",
            "911:\tlearn: 0.0011034\ttotal: 1.01s\tremaining: 97.6ms\n",
            "912:\tlearn: 0.0011034\ttotal: 1.01s\tremaining: 96.5ms\n",
            "913:\tlearn: 0.0011033\ttotal: 1.01s\tremaining: 95.3ms\n",
            "914:\tlearn: 0.0011033\ttotal: 1.01s\tremaining: 94.2ms\n",
            "915:\tlearn: 0.0011032\ttotal: 1.01s\tremaining: 93.1ms\n",
            "916:\tlearn: 0.0011031\ttotal: 1.02s\tremaining: 92ms\n",
            "917:\tlearn: 0.0011031\ttotal: 1.02s\tremaining: 90.8ms\n",
            "918:\tlearn: 0.0011031\ttotal: 1.02s\tremaining: 89.7ms\n",
            "919:\tlearn: 0.0011028\ttotal: 1.02s\tremaining: 88.6ms\n",
            "920:\tlearn: 0.0011027\ttotal: 1.02s\tremaining: 87.6ms\n",
            "921:\tlearn: 0.0011025\ttotal: 1.02s\tremaining: 86.5ms\n",
            "922:\tlearn: 0.0011024\ttotal: 1.02s\tremaining: 85.4ms\n",
            "923:\tlearn: 0.0011022\ttotal: 1.02s\tremaining: 84.4ms\n",
            "924:\tlearn: 0.0011019\ttotal: 1.03s\tremaining: 83.3ms\n",
            "925:\tlearn: 0.0011018\ttotal: 1.03s\tremaining: 82.1ms\n",
            "926:\tlearn: 0.0010970\ttotal: 1.03s\tremaining: 81ms\n",
            "927:\tlearn: 0.0010970\ttotal: 1.03s\tremaining: 79.9ms\n",
            "928:\tlearn: 0.0010970\ttotal: 1.03s\tremaining: 78.8ms\n",
            "929:\tlearn: 0.0010970\ttotal: 1.03s\tremaining: 77.7ms\n",
            "930:\tlearn: 0.0010970\ttotal: 1.03s\tremaining: 76.5ms\n",
            "931:\tlearn: 0.0010970\ttotal: 1.03s\tremaining: 75.4ms\n",
            "932:\tlearn: 0.0010970\ttotal: 1.03s\tremaining: 74.3ms\n",
            "933:\tlearn: 0.0010968\ttotal: 1.03s\tremaining: 73.2ms\n",
            "934:\tlearn: 0.0010967\ttotal: 1.04s\tremaining: 72.1ms\n",
            "935:\tlearn: 0.0010966\ttotal: 1.04s\tremaining: 71ms\n",
            "936:\tlearn: 0.0010965\ttotal: 1.04s\tremaining: 69.8ms\n",
            "937:\tlearn: 0.0010966\ttotal: 1.04s\tremaining: 68.7ms\n",
            "938:\tlearn: 0.0010964\ttotal: 1.04s\tremaining: 67.6ms\n",
            "939:\tlearn: 0.0010964\ttotal: 1.04s\tremaining: 66.5ms\n",
            "940:\tlearn: 0.0010961\ttotal: 1.04s\tremaining: 65.4ms\n",
            "941:\tlearn: 0.0010949\ttotal: 1.04s\tremaining: 64.2ms\n",
            "942:\tlearn: 0.0010948\ttotal: 1.04s\tremaining: 63.1ms\n",
            "943:\tlearn: 0.0010888\ttotal: 1.04s\tremaining: 62ms\n",
            "944:\tlearn: 0.0010888\ttotal: 1.05s\tremaining: 60.9ms\n",
            "945:\tlearn: 0.0010885\ttotal: 1.05s\tremaining: 59.8ms\n",
            "946:\tlearn: 0.0010885\ttotal: 1.05s\tremaining: 58.7ms\n",
            "947:\tlearn: 0.0010885\ttotal: 1.05s\tremaining: 57.5ms\n",
            "948:\tlearn: 0.0010883\ttotal: 1.05s\tremaining: 56.4ms\n",
            "949:\tlearn: 0.0010882\ttotal: 1.05s\tremaining: 55.3ms\n",
            "950:\tlearn: 0.0010881\ttotal: 1.05s\tremaining: 54.2ms\n",
            "951:\tlearn: 0.0010878\ttotal: 1.05s\tremaining: 53.1ms\n",
            "952:\tlearn: 0.0010879\ttotal: 1.05s\tremaining: 52ms\n",
            "953:\tlearn: 0.0010877\ttotal: 1.05s\tremaining: 50.9ms\n",
            "954:\tlearn: 0.0010876\ttotal: 1.05s\tremaining: 49.7ms\n",
            "955:\tlearn: 0.0010877\ttotal: 1.06s\tremaining: 48.6ms\n",
            "956:\tlearn: 0.0010878\ttotal: 1.06s\tremaining: 47.5ms\n",
            "957:\tlearn: 0.0010874\ttotal: 1.06s\tremaining: 46.4ms\n",
            "958:\tlearn: 0.0010874\ttotal: 1.06s\tremaining: 45.3ms\n",
            "959:\tlearn: 0.0010873\ttotal: 1.06s\tremaining: 44.2ms\n",
            "960:\tlearn: 0.0010872\ttotal: 1.06s\tremaining: 43.1ms\n",
            "961:\tlearn: 0.0010870\ttotal: 1.06s\tremaining: 42ms\n",
            "962:\tlearn: 0.0010869\ttotal: 1.06s\tremaining: 40.9ms\n",
            "963:\tlearn: 0.0010856\ttotal: 1.06s\tremaining: 39.8ms\n",
            "964:\tlearn: 0.0010855\ttotal: 1.06s\tremaining: 38.6ms\n",
            "965:\tlearn: 0.0010854\ttotal: 1.07s\tremaining: 37.5ms\n",
            "966:\tlearn: 0.0010853\ttotal: 1.07s\tremaining: 36.4ms\n",
            "967:\tlearn: 0.0010853\ttotal: 1.07s\tremaining: 35.3ms\n",
            "968:\tlearn: 0.0010844\ttotal: 1.07s\tremaining: 34.2ms\n",
            "969:\tlearn: 0.0010840\ttotal: 1.07s\tremaining: 33.1ms\n",
            "970:\tlearn: 0.0010839\ttotal: 1.07s\tremaining: 32ms\n",
            "971:\tlearn: 0.0010837\ttotal: 1.07s\tremaining: 30.9ms\n",
            "972:\tlearn: 0.0010837\ttotal: 1.07s\tremaining: 29.8ms\n",
            "973:\tlearn: 0.0010832\ttotal: 1.07s\tremaining: 28.7ms\n",
            "974:\tlearn: 0.0010832\ttotal: 1.07s\tremaining: 27.6ms\n",
            "975:\tlearn: 0.0010830\ttotal: 1.08s\tremaining: 26.5ms\n",
            "976:\tlearn: 0.0010829\ttotal: 1.08s\tremaining: 25.4ms\n",
            "977:\tlearn: 0.0010830\ttotal: 1.08s\tremaining: 24.3ms\n",
            "978:\tlearn: 0.0010829\ttotal: 1.08s\tremaining: 23.2ms\n",
            "979:\tlearn: 0.0010827\ttotal: 1.08s\tremaining: 22ms\n",
            "980:\tlearn: 0.0010826\ttotal: 1.08s\tremaining: 20.9ms\n",
            "981:\tlearn: 0.0010826\ttotal: 1.08s\tremaining: 19.8ms\n",
            "982:\tlearn: 0.0010815\ttotal: 1.08s\tremaining: 18.7ms\n",
            "983:\tlearn: 0.0010815\ttotal: 1.08s\tremaining: 17.6ms\n",
            "984:\tlearn: 0.0010815\ttotal: 1.08s\tremaining: 16.5ms\n",
            "985:\tlearn: 0.0010814\ttotal: 1.09s\tremaining: 15.4ms\n",
            "986:\tlearn: 0.0010815\ttotal: 1.09s\tremaining: 14.3ms\n",
            "987:\tlearn: 0.0010816\ttotal: 1.09s\tremaining: 13.2ms\n",
            "988:\tlearn: 0.0010809\ttotal: 1.09s\tremaining: 12.1ms\n",
            "989:\tlearn: 0.0010810\ttotal: 1.09s\tremaining: 11ms\n",
            "990:\tlearn: 0.0010807\ttotal: 1.09s\tremaining: 9.91ms\n",
            "991:\tlearn: 0.0010807\ttotal: 1.09s\tremaining: 8.81ms\n",
            "992:\tlearn: 0.0010807\ttotal: 1.09s\tremaining: 7.71ms\n",
            "993:\tlearn: 0.0010806\ttotal: 1.09s\tremaining: 6.6ms\n",
            "994:\tlearn: 0.0010806\ttotal: 1.09s\tremaining: 5.5ms\n",
            "995:\tlearn: 0.0010804\ttotal: 1.1s\tremaining: 4.4ms\n",
            "996:\tlearn: 0.0010802\ttotal: 1.1s\tremaining: 3.3ms\n",
            "997:\tlearn: 0.0010801\ttotal: 1.1s\tremaining: 2.2ms\n",
            "998:\tlearn: 0.0010795\ttotal: 1.1s\tremaining: 1.1ms\n",
            "999:\tlearn: 0.0010797\ttotal: 1.1s\tremaining: 0us\n"
          ]
        },
        {
          "output_type": "execute_result",
          "data": {
            "text/plain": [
              "<catboost.core.CatBoostClassifier at 0x7fbf3131cc90>"
            ]
          },
          "metadata": {},
          "execution_count": 193
        }
      ]
    },
    {
      "cell_type": "code",
      "metadata": {
        "colab": {
          "base_uri": "https://localhost:8080/"
        },
        "id": "hkuVxB14IMO4",
        "outputId": "db688dc2-b345-4475-9acf-2a43a6815dee"
      },
      "source": [
        "model.score(x_test,y_test)"
      ],
      "execution_count": 194,
      "outputs": [
        {
          "output_type": "execute_result",
          "data": {
            "text/plain": [
              "0.8360655737704918"
            ]
          },
          "metadata": {},
          "execution_count": 194
        }
      ]
    },
    {
      "cell_type": "code",
      "metadata": {
        "id": "_Ri3NNNZIhRg"
      },
      "source": [
        "from xgboost import XGBClassifier"
      ],
      "execution_count": 204,
      "outputs": []
    },
    {
      "cell_type": "code",
      "metadata": {
        "id": "ldso7dfNJIbe"
      },
      "source": [
        "param_dist = {'objective':'binary:logistic', 'n_estimators':2}"
      ],
      "execution_count": 201,
      "outputs": []
    },
    {
      "cell_type": "code",
      "metadata": {
        "id": "LkpJUGGZJgfT"
      },
      "source": [
        "clf = XGBClassifier(**param_dist)"
      ],
      "execution_count": 205,
      "outputs": []
    },
    {
      "cell_type": "code",
      "metadata": {
        "colab": {
          "base_uri": "https://localhost:8080/"
        },
        "id": "bfLO2UFGJ7it",
        "outputId": "bf825f27-1f17-4d4b-d688-bb9e876c239d"
      },
      "source": [
        "clf.fit(x_train, y_train,\n",
        "        eval_set=[(x_train, y_train), (x_test, y_test)],\n",
        "        eval_metric='logloss',\n",
        "        verbose=True)"
      ],
      "execution_count": 206,
      "outputs": [
        {
          "output_type": "stream",
          "name": "stdout",
          "text": [
            "[0]\tvalidation_0-logloss:0.645045\tvalidation_1-logloss:0.65119\n",
            "[1]\tvalidation_0-logloss:0.604981\tvalidation_1-logloss:0.611207\n"
          ]
        },
        {
          "output_type": "execute_result",
          "data": {
            "text/plain": [
              "XGBClassifier(base_score=0.5, booster='gbtree', colsample_bylevel=1,\n",
              "              colsample_bynode=1, colsample_bytree=1, gamma=0,\n",
              "              learning_rate=0.1, max_delta_step=0, max_depth=3,\n",
              "              min_child_weight=1, missing=None, n_estimators=2, n_jobs=1,\n",
              "              nthread=None, objective='binary:logistic', random_state=0,\n",
              "              reg_alpha=0, reg_lambda=1, scale_pos_weight=1, seed=None,\n",
              "              silent=None, subsample=1, verbosity=1)"
            ]
          },
          "metadata": {},
          "execution_count": 206
        }
      ]
    },
    {
      "cell_type": "code",
      "metadata": {
        "colab": {
          "base_uri": "https://localhost:8080/"
        },
        "id": "A9rtt8msKHEY",
        "outputId": "52785131-562b-4e8c-f376-a1e4631c592e"
      },
      "source": [
        "evals_result = clf.evals_result()\n",
        "evals_result"
      ],
      "execution_count": 208,
      "outputs": [
        {
          "output_type": "execute_result",
          "data": {
            "text/plain": [
              "{'validation_0': {'logloss': [0.645045, 0.604981]},\n",
              " 'validation_1': {'logloss': [0.65119, 0.611207]}}"
            ]
          },
          "metadata": {},
          "execution_count": 208
        }
      ]
    },
    {
      "cell_type": "code",
      "metadata": {
        "id": "xb328LsIKI4b"
      },
      "source": [
        ""
      ],
      "execution_count": null,
      "outputs": []
    }
  ]
}